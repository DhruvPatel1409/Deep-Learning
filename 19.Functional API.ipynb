{
  "nbformat": 4,
  "nbformat_minor": 0,
  "metadata": {
    "colab": {
      "provenance": [],
      "gpuType": "V28"
    },
    "kernelspec": {
      "name": "python3",
      "display_name": "Python 3"
    },
    "language_info": {
      "name": "python"
    },
    "accelerator": "TPU"
  },
  "cells": [
    {
      "cell_type": "code",
      "execution_count": 1,
      "metadata": {
        "id": "I2Nqq4xQ9Crm"
      },
      "outputs": [],
      "source": [
        "from keras.models import Model"
      ]
    },
    {
      "cell_type": "code",
      "source": [
        "model = Model(inputs = x,outputs = [output1,output2])"
      ],
      "metadata": {
        "id": "-PZH6lhG9QBy"
      },
      "execution_count": 6,
      "outputs": []
    },
    {
      "cell_type": "code",
      "source": [
        "from keras.layers import *"
      ],
      "metadata": {
        "id": "IZjgWXPu9Wbv"
      },
      "execution_count": 3,
      "outputs": []
    },
    {
      "cell_type": "code",
      "source": [
        "x = Input(shape=(3,))"
      ],
      "metadata": {
        "id": "Ws543ruK9Yna"
      },
      "execution_count": 4,
      "outputs": []
    },
    {
      "cell_type": "code",
      "source": [
        "hidden1 = Dense(128,activation='relu')(x)\n",
        "hidden2 = Dense(64,activation='relu')(hidden1)\n",
        "\n",
        "output1 = Dense(1,activation='linear')(hidden2)\n",
        "output2 = Dense(1,activation='sigmoid')(hidden2)"
      ],
      "metadata": {
        "id": "vg7R2-bX9eZw"
      },
      "execution_count": 5,
      "outputs": []
    },
    {
      "cell_type": "code",
      "source": [
        "model.summary()"
      ],
      "metadata": {
        "colab": {
          "base_uri": "https://localhost:8080/"
        },
        "id": "LBn0Qq8h-AcS",
        "outputId": "2ba44ae5-4862-458f-9373-72bd0482a7b4"
      },
      "execution_count": 7,
      "outputs": [
        {
          "output_type": "stream",
          "name": "stdout",
          "text": [
            "Model: \"model\"\n",
            "__________________________________________________________________________________________________\n",
            " Layer (type)                Output Shape                 Param #   Connected to                  \n",
            "==================================================================================================\n",
            " input_1 (InputLayer)        [(None, 3)]                  0         []                            \n",
            "                                                                                                  \n",
            " dense (Dense)               (None, 128)                  512       ['input_1[0][0]']             \n",
            "                                                                                                  \n",
            " dense_1 (Dense)             (None, 64)                   8256      ['dense[0][0]']               \n",
            "                                                                                                  \n",
            " dense_2 (Dense)             (None, 1)                    65        ['dense_1[0][0]']             \n",
            "                                                                                                  \n",
            " dense_3 (Dense)             (None, 1)                    65        ['dense_1[0][0]']             \n",
            "                                                                                                  \n",
            "==================================================================================================\n",
            "Total params: 8898 (34.76 KB)\n",
            "Trainable params: 8898 (34.76 KB)\n",
            "Non-trainable params: 0 (0.00 Byte)\n",
            "__________________________________________________________________________________________________\n"
          ]
        }
      ]
    },
    {
      "cell_type": "code",
      "source": [
        "from keras.utils import plot_model\n",
        "plot_model(model,show_shapes=True)"
      ],
      "metadata": {
        "colab": {
          "base_uri": "https://localhost:8080/"
        },
        "id": "c-WD1kr7-CeV",
        "outputId": "a53eb3c7-9230-40ef-dd4d-5eb8c3b2a65d"
      },
      "execution_count": 8,
      "outputs": [
        {
          "output_type": "stream",
          "name": "stdout",
          "text": [
            "You must install pydot (`pip install pydot`) and install graphviz (see instructions at https://graphviz.gitlab.io/download/) for plot_model to work.\n"
          ]
        }
      ]
    },
    {
      "cell_type": "markdown",
      "source": [
        "**complex functional API**"
      ],
      "metadata": {
        "id": "d2V_vvHy-44S"
      }
    },
    {
      "cell_type": "code",
      "source": [
        "inputA = Input(shape=(32,))\n",
        "inputB = Input(shape=(128,))"
      ],
      "metadata": {
        "id": "vO08kR2C-WA8"
      },
      "execution_count": 9,
      "outputs": []
    },
    {
      "cell_type": "code",
      "source": [
        "# the first branch operates on the first input\n",
        "x = Dense(8, activation=\"relu\")(inputA)\n",
        "x1 = Dense(4, activation=\"relu\")(x)"
      ],
      "metadata": {
        "id": "6WJCNYP0_Jgw"
      },
      "execution_count": 10,
      "outputs": []
    },
    {
      "cell_type": "code",
      "source": [
        "# the second branch operates on second input\n",
        "y = Dense(64, activation=\"relu\")(inputB)\n",
        "y1 = Dense(32, activation=\"relu\")(y)\n",
        "y2 = Dense(16, activation=\"relu\")(y1)"
      ],
      "metadata": {
        "id": "Kq7ZsHkv_Zcv"
      },
      "execution_count": 11,
      "outputs": []
    },
    {
      "cell_type": "code",
      "source": [
        "# combine the ouputs of both branches\n",
        "combined = concatenate([x1, y2])"
      ],
      "metadata": {
        "id": "NkTvu5fQ_m4S"
      },
      "execution_count": 12,
      "outputs": []
    },
    {
      "cell_type": "code",
      "source": [
        "# applying a fc layer and then a regression prediction on the combined layers\n",
        "z = Dense(2, activation=\"relu\")(combined)\n",
        "z1 = Dense(1,activation='linear')(z)"
      ],
      "metadata": {
        "id": "W0Uch-yA_xVQ"
      },
      "execution_count": 13,
      "outputs": []
    },
    {
      "cell_type": "code",
      "source": [
        "model = Model(inputs=[inputA, inputB], outputs=z1)"
      ],
      "metadata": {
        "id": "fME8UNtPAD6o"
      },
      "execution_count": 14,
      "outputs": []
    },
    {
      "cell_type": "code",
      "source": [
        "plot_model(model,show_shapes=True)"
      ],
      "metadata": {
        "colab": {
          "base_uri": "https://localhost:8080/"
        },
        "id": "X9wIk97CAM8Y",
        "outputId": "80786d29-a330-44bb-ead2-4ecd2e0a34d4"
      },
      "execution_count": 15,
      "outputs": [
        {
          "output_type": "stream",
          "name": "stdout",
          "text": [
            "You must install pydot (`pip install pydot`) and install graphviz (see instructions at https://graphviz.gitlab.io/download/) for plot_model to work.\n"
          ]
        }
      ]
    },
    {
      "cell_type": "markdown",
      "source": [
        "**AGE AND GENDER USING FUNCTIONAL API**"
      ],
      "metadata": {
        "id": "0gAy2DgDCX_o"
      }
    },
    {
      "cell_type": "code",
      "source": [
        "!mkdir -p ~/.kaggle\n",
        "!cp kaggle.json ~/.kaggle/"
      ],
      "metadata": {
        "colab": {
          "base_uri": "https://localhost:8080/"
        },
        "id": "bGTIg84XCdve",
        "outputId": "409252bc-b6f8-4149-b475-28c14385e672"
      },
      "execution_count": 16,
      "outputs": [
        {
          "output_type": "stream",
          "name": "stdout",
          "text": [
            "cp: cannot stat 'kaggle.json': No such file or directory\n"
          ]
        }
      ]
    },
    {
      "cell_type": "code",
      "source": [
        "!kaggle datasets download -d jangedoo/utkface-new"
      ],
      "metadata": {
        "colab": {
          "base_uri": "https://localhost:8080/"
        },
        "id": "E9HUgRxtCnEM",
        "outputId": "2b37aa6e-c1d8-4fb8-cced-8909f99dc595"
      },
      "execution_count": 17,
      "outputs": [
        {
          "output_type": "stream",
          "name": "stdout",
          "text": [
            "Warning: Looks like you're using an outdated API Version, please consider updating (server 1.6.14 / client 1.6.12)\n",
            "Dataset URL: https://www.kaggle.com/datasets/jangedoo/utkface-new\n",
            "License(s): copyright-authors\n",
            "Downloading utkface-new.zip to /content\n",
            " 98% 323M/331M [00:02<00:00, 225MB/s]\n",
            "100% 331M/331M [00:02<00:00, 140MB/s]\n"
          ]
        }
      ]
    },
    {
      "cell_type": "code",
      "source": [
        "import zipfile\n",
        "zip = zipfile.ZipFile('/content/utkface-new.zip', 'r')\n",
        "zip.extractall('/content')\n",
        "zip.close()"
      ],
      "metadata": {
        "id": "BxXV3FJADLG_"
      },
      "execution_count": 18,
      "outputs": []
    },
    {
      "cell_type": "code",
      "source": [
        "import os\n",
        "import numpy as np\n",
        "import pandas as pd\n",
        "from keras.preprocessing.image import ImageDataGenerator"
      ],
      "metadata": {
        "id": "4MKhQbu6DUV1"
      },
      "execution_count": 19,
      "outputs": []
    },
    {
      "cell_type": "code",
      "source": [
        "folder_path = '/content/utkface_aligned_cropped/UTKFace'"
      ],
      "metadata": {
        "id": "snIXf6QsDuHr"
      },
      "execution_count": 20,
      "outputs": []
    },
    {
      "cell_type": "code",
      "source": [
        "age = []\n",
        "gender = []\n",
        "img_path = []\n",
        "for file in os.listdir(folder_path):\n",
        "  age.append(int(file.split('_')[0]))\n",
        "  gender.append(file.split('_')[1])\n",
        "  img_path.append(file)"
      ],
      "metadata": {
        "id": "5rH1EIF2D1Sc"
      },
      "execution_count": 21,
      "outputs": []
    },
    {
      "cell_type": "code",
      "source": [
        "len(age)"
      ],
      "metadata": {
        "colab": {
          "base_uri": "https://localhost:8080/"
        },
        "id": "k2r6SYO2EBv7",
        "outputId": "fcbb7109-e302-44d9-9011-c974a08a3ce7"
      },
      "execution_count": 22,
      "outputs": [
        {
          "output_type": "execute_result",
          "data": {
            "text/plain": [
              "23708"
            ]
          },
          "metadata": {},
          "execution_count": 22
        }
      ]
    },
    {
      "cell_type": "code",
      "source": [
        "df = pd.DataFrame({'age':age,'gender':gender,'img':img_path})"
      ],
      "metadata": {
        "id": "fQm0iDWZED7J"
      },
      "execution_count": 23,
      "outputs": []
    },
    {
      "cell_type": "code",
      "source": [
        "df.shape"
      ],
      "metadata": {
        "colab": {
          "base_uri": "https://localhost:8080/"
        },
        "id": "C6QlbexUEMZy",
        "outputId": "a0ebec9c-df87-46c8-8e36-a7150ff729c6"
      },
      "execution_count": 24,
      "outputs": [
        {
          "output_type": "execute_result",
          "data": {
            "text/plain": [
              "(23708, 3)"
            ]
          },
          "metadata": {},
          "execution_count": 24
        }
      ]
    },
    {
      "cell_type": "code",
      "source": [
        "df.head()"
      ],
      "metadata": {
        "colab": {
          "base_uri": "https://localhost:8080/",
          "height": 206
        },
        "id": "KDBR1Tk_ENSN",
        "outputId": "4126a331-8d97-464f-b625-8c71bbb99497"
      },
      "execution_count": 25,
      "outputs": [
        {
          "output_type": "execute_result",
          "data": {
            "text/plain": [
              "   age gender                                    img\n",
              "0   42      1  42_1_0_20170103184125771.jpg.chip.jpg\n",
              "1    3      0   3_0_2_20170110212616630.jpg.chip.jpg\n",
              "2   25      1  25_1_0_20170117143830737.jpg.chip.jpg\n",
              "3    3      0   3_0_0_20170110225025587.jpg.chip.jpg\n",
              "4   48      0  48_0_0_20170117160506440.jpg.chip.jpg"
            ],
            "text/html": [
              "\n",
              "  <div id=\"df-0dda4366-97f0-43b5-8fa3-deab182d07fe\" class=\"colab-df-container\">\n",
              "    <div>\n",
              "<style scoped>\n",
              "    .dataframe tbody tr th:only-of-type {\n",
              "        vertical-align: middle;\n",
              "    }\n",
              "\n",
              "    .dataframe tbody tr th {\n",
              "        vertical-align: top;\n",
              "    }\n",
              "\n",
              "    .dataframe thead th {\n",
              "        text-align: right;\n",
              "    }\n",
              "</style>\n",
              "<table border=\"1\" class=\"dataframe\">\n",
              "  <thead>\n",
              "    <tr style=\"text-align: right;\">\n",
              "      <th></th>\n",
              "      <th>age</th>\n",
              "      <th>gender</th>\n",
              "      <th>img</th>\n",
              "    </tr>\n",
              "  </thead>\n",
              "  <tbody>\n",
              "    <tr>\n",
              "      <th>0</th>\n",
              "      <td>42</td>\n",
              "      <td>1</td>\n",
              "      <td>42_1_0_20170103184125771.jpg.chip.jpg</td>\n",
              "    </tr>\n",
              "    <tr>\n",
              "      <th>1</th>\n",
              "      <td>3</td>\n",
              "      <td>0</td>\n",
              "      <td>3_0_2_20170110212616630.jpg.chip.jpg</td>\n",
              "    </tr>\n",
              "    <tr>\n",
              "      <th>2</th>\n",
              "      <td>25</td>\n",
              "      <td>1</td>\n",
              "      <td>25_1_0_20170117143830737.jpg.chip.jpg</td>\n",
              "    </tr>\n",
              "    <tr>\n",
              "      <th>3</th>\n",
              "      <td>3</td>\n",
              "      <td>0</td>\n",
              "      <td>3_0_0_20170110225025587.jpg.chip.jpg</td>\n",
              "    </tr>\n",
              "    <tr>\n",
              "      <th>4</th>\n",
              "      <td>48</td>\n",
              "      <td>0</td>\n",
              "      <td>48_0_0_20170117160506440.jpg.chip.jpg</td>\n",
              "    </tr>\n",
              "  </tbody>\n",
              "</table>\n",
              "</div>\n",
              "    <div class=\"colab-df-buttons\">\n",
              "\n",
              "  <div class=\"colab-df-container\">\n",
              "    <button class=\"colab-df-convert\" onclick=\"convertToInteractive('df-0dda4366-97f0-43b5-8fa3-deab182d07fe')\"\n",
              "            title=\"Convert this dataframe to an interactive table.\"\n",
              "            style=\"display:none;\">\n",
              "\n",
              "  <svg xmlns=\"http://www.w3.org/2000/svg\" height=\"24px\" viewBox=\"0 -960 960 960\">\n",
              "    <path d=\"M120-120v-720h720v720H120Zm60-500h600v-160H180v160Zm220 220h160v-160H400v160Zm0 220h160v-160H400v160ZM180-400h160v-160H180v160Zm440 0h160v-160H620v160ZM180-180h160v-160H180v160Zm440 0h160v-160H620v160Z\"/>\n",
              "  </svg>\n",
              "    </button>\n",
              "\n",
              "  <style>\n",
              "    .colab-df-container {\n",
              "      display:flex;\n",
              "      gap: 12px;\n",
              "    }\n",
              "\n",
              "    .colab-df-convert {\n",
              "      background-color: #E8F0FE;\n",
              "      border: none;\n",
              "      border-radius: 50%;\n",
              "      cursor: pointer;\n",
              "      display: none;\n",
              "      fill: #1967D2;\n",
              "      height: 32px;\n",
              "      padding: 0 0 0 0;\n",
              "      width: 32px;\n",
              "    }\n",
              "\n",
              "    .colab-df-convert:hover {\n",
              "      background-color: #E2EBFA;\n",
              "      box-shadow: 0px 1px 2px rgba(60, 64, 67, 0.3), 0px 1px 3px 1px rgba(60, 64, 67, 0.15);\n",
              "      fill: #174EA6;\n",
              "    }\n",
              "\n",
              "    .colab-df-buttons div {\n",
              "      margin-bottom: 4px;\n",
              "    }\n",
              "\n",
              "    [theme=dark] .colab-df-convert {\n",
              "      background-color: #3B4455;\n",
              "      fill: #D2E3FC;\n",
              "    }\n",
              "\n",
              "    [theme=dark] .colab-df-convert:hover {\n",
              "      background-color: #434B5C;\n",
              "      box-shadow: 0px 1px 3px 1px rgba(0, 0, 0, 0.15);\n",
              "      filter: drop-shadow(0px 1px 2px rgba(0, 0, 0, 0.3));\n",
              "      fill: #FFFFFF;\n",
              "    }\n",
              "  </style>\n",
              "\n",
              "    <script>\n",
              "      const buttonEl =\n",
              "        document.querySelector('#df-0dda4366-97f0-43b5-8fa3-deab182d07fe button.colab-df-convert');\n",
              "      buttonEl.style.display =\n",
              "        google.colab.kernel.accessAllowed ? 'block' : 'none';\n",
              "\n",
              "      async function convertToInteractive(key) {\n",
              "        const element = document.querySelector('#df-0dda4366-97f0-43b5-8fa3-deab182d07fe');\n",
              "        const dataTable =\n",
              "          await google.colab.kernel.invokeFunction('convertToInteractive',\n",
              "                                                    [key], {});\n",
              "        if (!dataTable) return;\n",
              "\n",
              "        const docLinkHtml = 'Like what you see? Visit the ' +\n",
              "          '<a target=\"_blank\" href=https://colab.research.google.com/notebooks/data_table.ipynb>data table notebook</a>'\n",
              "          + ' to learn more about interactive tables.';\n",
              "        element.innerHTML = '';\n",
              "        dataTable['output_type'] = 'display_data';\n",
              "        await google.colab.output.renderOutput(dataTable, element);\n",
              "        const docLink = document.createElement('div');\n",
              "        docLink.innerHTML = docLinkHtml;\n",
              "        element.appendChild(docLink);\n",
              "      }\n",
              "    </script>\n",
              "  </div>\n",
              "\n",
              "\n",
              "<div id=\"df-42f26851-8a91-43a7-808a-cec3ce88d225\">\n",
              "  <button class=\"colab-df-quickchart\" onclick=\"quickchart('df-42f26851-8a91-43a7-808a-cec3ce88d225')\"\n",
              "            title=\"Suggest charts\"\n",
              "            style=\"display:none;\">\n",
              "\n",
              "<svg xmlns=\"http://www.w3.org/2000/svg\" height=\"24px\"viewBox=\"0 0 24 24\"\n",
              "     width=\"24px\">\n",
              "    <g>\n",
              "        <path d=\"M19 3H5c-1.1 0-2 .9-2 2v14c0 1.1.9 2 2 2h14c1.1 0 2-.9 2-2V5c0-1.1-.9-2-2-2zM9 17H7v-7h2v7zm4 0h-2V7h2v10zm4 0h-2v-4h2v4z\"/>\n",
              "    </g>\n",
              "</svg>\n",
              "  </button>\n",
              "\n",
              "<style>\n",
              "  .colab-df-quickchart {\n",
              "      --bg-color: #E8F0FE;\n",
              "      --fill-color: #1967D2;\n",
              "      --hover-bg-color: #E2EBFA;\n",
              "      --hover-fill-color: #174EA6;\n",
              "      --disabled-fill-color: #AAA;\n",
              "      --disabled-bg-color: #DDD;\n",
              "  }\n",
              "\n",
              "  [theme=dark] .colab-df-quickchart {\n",
              "      --bg-color: #3B4455;\n",
              "      --fill-color: #D2E3FC;\n",
              "      --hover-bg-color: #434B5C;\n",
              "      --hover-fill-color: #FFFFFF;\n",
              "      --disabled-bg-color: #3B4455;\n",
              "      --disabled-fill-color: #666;\n",
              "  }\n",
              "\n",
              "  .colab-df-quickchart {\n",
              "    background-color: var(--bg-color);\n",
              "    border: none;\n",
              "    border-radius: 50%;\n",
              "    cursor: pointer;\n",
              "    display: none;\n",
              "    fill: var(--fill-color);\n",
              "    height: 32px;\n",
              "    padding: 0;\n",
              "    width: 32px;\n",
              "  }\n",
              "\n",
              "  .colab-df-quickchart:hover {\n",
              "    background-color: var(--hover-bg-color);\n",
              "    box-shadow: 0 1px 2px rgba(60, 64, 67, 0.3), 0 1px 3px 1px rgba(60, 64, 67, 0.15);\n",
              "    fill: var(--button-hover-fill-color);\n",
              "  }\n",
              "\n",
              "  .colab-df-quickchart-complete:disabled,\n",
              "  .colab-df-quickchart-complete:disabled:hover {\n",
              "    background-color: var(--disabled-bg-color);\n",
              "    fill: var(--disabled-fill-color);\n",
              "    box-shadow: none;\n",
              "  }\n",
              "\n",
              "  .colab-df-spinner {\n",
              "    border: 2px solid var(--fill-color);\n",
              "    border-color: transparent;\n",
              "    border-bottom-color: var(--fill-color);\n",
              "    animation:\n",
              "      spin 1s steps(1) infinite;\n",
              "  }\n",
              "\n",
              "  @keyframes spin {\n",
              "    0% {\n",
              "      border-color: transparent;\n",
              "      border-bottom-color: var(--fill-color);\n",
              "      border-left-color: var(--fill-color);\n",
              "    }\n",
              "    20% {\n",
              "      border-color: transparent;\n",
              "      border-left-color: var(--fill-color);\n",
              "      border-top-color: var(--fill-color);\n",
              "    }\n",
              "    30% {\n",
              "      border-color: transparent;\n",
              "      border-left-color: var(--fill-color);\n",
              "      border-top-color: var(--fill-color);\n",
              "      border-right-color: var(--fill-color);\n",
              "    }\n",
              "    40% {\n",
              "      border-color: transparent;\n",
              "      border-right-color: var(--fill-color);\n",
              "      border-top-color: var(--fill-color);\n",
              "    }\n",
              "    60% {\n",
              "      border-color: transparent;\n",
              "      border-right-color: var(--fill-color);\n",
              "    }\n",
              "    80% {\n",
              "      border-color: transparent;\n",
              "      border-right-color: var(--fill-color);\n",
              "      border-bottom-color: var(--fill-color);\n",
              "    }\n",
              "    90% {\n",
              "      border-color: transparent;\n",
              "      border-bottom-color: var(--fill-color);\n",
              "    }\n",
              "  }\n",
              "</style>\n",
              "\n",
              "  <script>\n",
              "    async function quickchart(key) {\n",
              "      const quickchartButtonEl =\n",
              "        document.querySelector('#' + key + ' button');\n",
              "      quickchartButtonEl.disabled = true;  // To prevent multiple clicks.\n",
              "      quickchartButtonEl.classList.add('colab-df-spinner');\n",
              "      try {\n",
              "        const charts = await google.colab.kernel.invokeFunction(\n",
              "            'suggestCharts', [key], {});\n",
              "      } catch (error) {\n",
              "        console.error('Error during call to suggestCharts:', error);\n",
              "      }\n",
              "      quickchartButtonEl.classList.remove('colab-df-spinner');\n",
              "      quickchartButtonEl.classList.add('colab-df-quickchart-complete');\n",
              "    }\n",
              "    (() => {\n",
              "      let quickchartButtonEl =\n",
              "        document.querySelector('#df-42f26851-8a91-43a7-808a-cec3ce88d225 button');\n",
              "      quickchartButtonEl.style.display =\n",
              "        google.colab.kernel.accessAllowed ? 'block' : 'none';\n",
              "    })();\n",
              "  </script>\n",
              "</div>\n",
              "\n",
              "    </div>\n",
              "  </div>\n"
            ],
            "application/vnd.google.colaboratory.intrinsic+json": {
              "type": "dataframe",
              "variable_name": "df",
              "summary": "{\n  \"name\": \"df\",\n  \"rows\": 23708,\n  \"fields\": [\n    {\n      \"column\": \"age\",\n      \"properties\": {\n        \"dtype\": \"number\",\n        \"std\": 19,\n        \"min\": 1,\n        \"max\": 116,\n        \"num_unique_values\": 104,\n        \"samples\": [\n          58,\n          60,\n          59\n        ],\n        \"semantic_type\": \"\",\n        \"description\": \"\"\n      }\n    },\n    {\n      \"column\": \"gender\",\n      \"properties\": {\n        \"dtype\": \"category\",\n        \"num_unique_values\": 2,\n        \"samples\": [\n          \"0\",\n          \"1\"\n        ],\n        \"semantic_type\": \"\",\n        \"description\": \"\"\n      }\n    },\n    {\n      \"column\": \"img\",\n      \"properties\": {\n        \"dtype\": \"string\",\n        \"num_unique_values\": 23708,\n        \"samples\": [\n          \"28_0_1_20170113142237196.jpg.chip.jpg\",\n          \"36_1_1_20170112231520246.jpg.chip.jpg\"\n        ],\n        \"semantic_type\": \"\",\n        \"description\": \"\"\n      }\n    }\n  ]\n}"
            }
          },
          "metadata": {},
          "execution_count": 25
        }
      ]
    },
    {
      "cell_type": "code",
      "source": [
        "df['gender'] = df['gender'].astype('float32')"
      ],
      "metadata": {
        "id": "7hsHlQNAJHBD"
      },
      "execution_count": 26,
      "outputs": []
    },
    {
      "cell_type": "code",
      "source": [
        "train_df = df.sample(frac=1,random_state=0).iloc[:20000]\n",
        "test_df = df.sample(frac=1,random_state=0).iloc[20000:]"
      ],
      "metadata": {
        "id": "Ri9g4__8EQfD"
      },
      "execution_count": 27,
      "outputs": []
    },
    {
      "cell_type": "code",
      "source": [
        "print(train_df.shape)\n",
        "print(test_df.shape)"
      ],
      "metadata": {
        "colab": {
          "base_uri": "https://localhost:8080/"
        },
        "id": "SsXCHjoxEOSo",
        "outputId": "e4a48a03-1ced-424d-fa96-7e72671a9afe"
      },
      "execution_count": 28,
      "outputs": [
        {
          "output_type": "stream",
          "name": "stdout",
          "text": [
            "(20000, 3)\n",
            "(3708, 3)\n"
          ]
        }
      ]
    },
    {
      "cell_type": "code",
      "source": [
        "train_datagen = ImageDataGenerator(\n",
        "    rescale=1./255,\n",
        "    rotation_range=30,\n",
        "    width_shift_range=0.2,\n",
        "    height_shift_range=0.2,\n",
        "    shear_range=0.2,\n",
        "    zoom_range=0.2,\n",
        "    horizontal_flip=True)\n",
        "\n",
        "test_datagen = ImageDataGenerator(rescale=1./255)"
      ],
      "metadata": {
        "id": "4cJmpQhbEjrL"
      },
      "execution_count": 29,
      "outputs": []
    },
    {
      "cell_type": "code",
      "source": [
        "train_generator = train_datagen.flow_from_dataframe(train_df,\n",
        "                                                    directory=folder_path,\n",
        "                                                    x_col='img',\n",
        "                                                    y_col=['age','gender'],\n",
        "                                                    target_size=(200,200),\n",
        "                                                    class_mode='multi_output')\n",
        "\n",
        "test_generator = test_datagen.flow_from_dataframe(test_df,\n",
        "                                                    directory=folder_path,\n",
        "                                                    x_col='img',\n",
        "                                                    y_col=['age','gender'],\n",
        "                                                    target_size=(200,200),\n",
        "                                                    class_mode='multi_output')"
      ],
      "metadata": {
        "colab": {
          "base_uri": "https://localhost:8080/"
        },
        "id": "cGnX-tN6E-4N",
        "outputId": "f85b0218-dd97-422a-ade8-176857a169ff"
      },
      "execution_count": 30,
      "outputs": [
        {
          "output_type": "stream",
          "name": "stdout",
          "text": [
            "Found 20000 validated image filenames.\n",
            "Found 3708 validated image filenames.\n"
          ]
        }
      ]
    },
    {
      "cell_type": "code",
      "source": [
        "from keras.applications.vgg16 import VGG16\n",
        "from keras.layers import *\n",
        "from keras.models import Model"
      ],
      "metadata": {
        "id": "uhq14ehZFm-g"
      },
      "execution_count": 31,
      "outputs": []
    },
    {
      "cell_type": "code",
      "source": [
        "vggnet = VGG16(include_top=False,input_shape=(200,200,3))"
      ],
      "metadata": {
        "colab": {
          "base_uri": "https://localhost:8080/"
        },
        "id": "oBH2JqVUGBup",
        "outputId": "3956c9a3-7bc3-457d-b7d5-c4c97e0d25ca"
      },
      "execution_count": 32,
      "outputs": [
        {
          "output_type": "stream",
          "name": "stdout",
          "text": [
            "Downloading data from https://storage.googleapis.com/tensorflow/keras-applications/vgg16/vgg16_weights_tf_dim_ordering_tf_kernels_notop.h5\n",
            "58889256/58889256 [==============================] - 0s 0us/step\n"
          ]
        }
      ]
    },
    {
      "cell_type": "code",
      "source": [
        "vggnet.trainable=False\n",
        "\n",
        "output = vggnet.layers[-1].output\n",
        "flatten = Flatten()(output)\n",
        "\n",
        "dense1 = Dense(512,activation='relu')(flatten)\n",
        "dense2 = Dense(512,activation='relu')(flatten)\n",
        "\n",
        "dense3 = Dense(512,activation='relu')(dense1)\n",
        "dense4 = Dense(512,activation='relu')(dense2)\n",
        "\n",
        "output1 = Dense(1,activation='linear',name='age')(dense3)\n",
        "output2 = Dense(1,activation='sigmoid',name='gender')(dense4)"
      ],
      "metadata": {
        "id": "ZhXrwSZhGGT5"
      },
      "execution_count": 33,
      "outputs": []
    },
    {
      "cell_type": "code",
      "source": [
        "model = Model(inputs=vggnet.input,outputs=[output1,output2])"
      ],
      "metadata": {
        "id": "_Z5HbOX1G0Gd"
      },
      "execution_count": 34,
      "outputs": []
    },
    {
      "cell_type": "code",
      "source": [
        "model.summary()"
      ],
      "metadata": {
        "colab": {
          "base_uri": "https://localhost:8080/"
        },
        "id": "5LIuExzEG80B",
        "outputId": "b6292732-b311-498f-981e-960b154ec8a9"
      },
      "execution_count": 35,
      "outputs": [
        {
          "output_type": "stream",
          "name": "stdout",
          "text": [
            "Model: \"model_2\"\n",
            "__________________________________________________________________________________________________\n",
            " Layer (type)                Output Shape                 Param #   Connected to                  \n",
            "==================================================================================================\n",
            " input_4 (InputLayer)        [(None, 200, 200, 3)]        0         []                            \n",
            "                                                                                                  \n",
            " block1_conv1 (Conv2D)       (None, 200, 200, 64)         1792      ['input_4[0][0]']             \n",
            "                                                                                                  \n",
            " block1_conv2 (Conv2D)       (None, 200, 200, 64)         36928     ['block1_conv1[0][0]']        \n",
            "                                                                                                  \n",
            " block1_pool (MaxPooling2D)  (None, 100, 100, 64)         0         ['block1_conv2[0][0]']        \n",
            "                                                                                                  \n",
            " block2_conv1 (Conv2D)       (None, 100, 100, 128)        73856     ['block1_pool[0][0]']         \n",
            "                                                                                                  \n",
            " block2_conv2 (Conv2D)       (None, 100, 100, 128)        147584    ['block2_conv1[0][0]']        \n",
            "                                                                                                  \n",
            " block2_pool (MaxPooling2D)  (None, 50, 50, 128)          0         ['block2_conv2[0][0]']        \n",
            "                                                                                                  \n",
            " block3_conv1 (Conv2D)       (None, 50, 50, 256)          295168    ['block2_pool[0][0]']         \n",
            "                                                                                                  \n",
            " block3_conv2 (Conv2D)       (None, 50, 50, 256)          590080    ['block3_conv1[0][0]']        \n",
            "                                                                                                  \n",
            " block3_conv3 (Conv2D)       (None, 50, 50, 256)          590080    ['block3_conv2[0][0]']        \n",
            "                                                                                                  \n",
            " block3_pool (MaxPooling2D)  (None, 25, 25, 256)          0         ['block3_conv3[0][0]']        \n",
            "                                                                                                  \n",
            " block4_conv1 (Conv2D)       (None, 25, 25, 512)          1180160   ['block3_pool[0][0]']         \n",
            "                                                                                                  \n",
            " block4_conv2 (Conv2D)       (None, 25, 25, 512)          2359808   ['block4_conv1[0][0]']        \n",
            "                                                                                                  \n",
            " block4_conv3 (Conv2D)       (None, 25, 25, 512)          2359808   ['block4_conv2[0][0]']        \n",
            "                                                                                                  \n",
            " block4_pool (MaxPooling2D)  (None, 12, 12, 512)          0         ['block4_conv3[0][0]']        \n",
            "                                                                                                  \n",
            " block5_conv1 (Conv2D)       (None, 12, 12, 512)          2359808   ['block4_pool[0][0]']         \n",
            "                                                                                                  \n",
            " block5_conv2 (Conv2D)       (None, 12, 12, 512)          2359808   ['block5_conv1[0][0]']        \n",
            "                                                                                                  \n",
            " block5_conv3 (Conv2D)       (None, 12, 12, 512)          2359808   ['block5_conv2[0][0]']        \n",
            "                                                                                                  \n",
            " block5_pool (MaxPooling2D)  (None, 6, 6, 512)            0         ['block5_conv3[0][0]']        \n",
            "                                                                                                  \n",
            " flatten (Flatten)           (None, 18432)                0         ['block5_pool[0][0]']         \n",
            "                                                                                                  \n",
            " dense_11 (Dense)            (None, 512)                  9437696   ['flatten[0][0]']             \n",
            "                                                                                                  \n",
            " dense_12 (Dense)            (None, 512)                  9437696   ['flatten[0][0]']             \n",
            "                                                                                                  \n",
            " dense_13 (Dense)            (None, 512)                  262656    ['dense_11[0][0]']            \n",
            "                                                                                                  \n",
            " dense_14 (Dense)            (None, 512)                  262656    ['dense_12[0][0]']            \n",
            "                                                                                                  \n",
            " age (Dense)                 (None, 1)                    513       ['dense_13[0][0]']            \n",
            "                                                                                                  \n",
            " gender (Dense)              (None, 1)                    513       ['dense_14[0][0]']            \n",
            "                                                                                                  \n",
            "==================================================================================================\n",
            "Total params: 34116418 (130.14 MB)\n",
            "Trainable params: 19401730 (74.01 MB)\n",
            "Non-trainable params: 14714688 (56.13 MB)\n",
            "__________________________________________________________________________________________________\n"
          ]
        }
      ]
    },
    {
      "cell_type": "code",
      "source": [
        "plot_model(model)"
      ],
      "metadata": {
        "colab": {
          "base_uri": "https://localhost:8080/"
        },
        "id": "4ppInoV-HAQZ",
        "outputId": "fa017dc4-6766-4090-cc35-a91fff8a4a7c"
      },
      "execution_count": 36,
      "outputs": [
        {
          "output_type": "stream",
          "name": "stdout",
          "text": [
            "You must install pydot (`pip install pydot`) and install graphviz (see instructions at https://graphviz.gitlab.io/download/) for plot_model to work.\n"
          ]
        }
      ]
    },
    {
      "cell_type": "code",
      "source": [
        "model.compile(optimizer='adam',loss={'age':'mae','gender':'binary_crossentropy'},metrics={'age':'mae','gender':'accuracy'})"
      ],
      "metadata": {
        "id": "-d-UAH7-HKyx"
      },
      "execution_count": 37,
      "outputs": []
    },
    {
      "cell_type": "code",
      "source": [
        "model.fit(train_generator,batch_size=32,epochs=5,validation_data=test_generator)"
      ],
      "metadata": {
        "colab": {
          "base_uri": "https://localhost:8080/"
        },
        "id": "DRzUSeekH6e4",
        "outputId": "9e32d364-4925-4061-dd91-271cff0d5c81"
      },
      "execution_count": 39,
      "outputs": [
        {
          "output_type": "stream",
          "name": "stdout",
          "text": [
            "Epoch 1/5\n",
            "625/625 [==============================] - 396s 633ms/step - loss: 11.0504 - age_loss: 10.5606 - gender_loss: 0.4898 - age_mae: 10.5606 - gender_accuracy: 0.7621 - val_loss: 9.5714 - val_age_loss: 9.2044 - val_gender_loss: 0.3670 - val_age_mae: 9.2044 - val_gender_accuracy: 0.8325\n",
            "Epoch 2/5\n",
            "625/625 [==============================] - 398s 637ms/step - loss: 9.7016 - age_loss: 9.2679 - gender_loss: 0.4338 - age_mae: 9.2679 - gender_accuracy: 0.7905 - val_loss: 8.5287 - val_age_loss: 8.1673 - val_gender_loss: 0.3613 - val_age_mae: 8.1673 - val_gender_accuracy: 0.8374\n",
            "Epoch 3/5\n",
            "625/625 [==============================] - 402s 643ms/step - loss: 9.3387 - age_loss: 8.9276 - gender_loss: 0.4111 - age_mae: 8.9276 - gender_accuracy: 0.8074 - val_loss: 8.1620 - val_age_loss: 7.8313 - val_gender_loss: 0.3306 - val_age_mae: 7.8313 - val_gender_accuracy: 0.8525\n",
            "Epoch 4/5\n",
            "625/625 [==============================] - 405s 648ms/step - loss: 9.1974 - age_loss: 8.7920 - gender_loss: 0.4055 - age_mae: 8.7920 - gender_accuracy: 0.8090 - val_loss: 8.2270 - val_age_loss: 7.8904 - val_gender_loss: 0.3366 - val_age_mae: 7.8904 - val_gender_accuracy: 0.8568\n",
            "Epoch 5/5\n",
            "625/625 [==============================] - 401s 642ms/step - loss: 8.9593 - age_loss: 8.5681 - gender_loss: 0.3912 - age_mae: 8.5681 - gender_accuracy: 0.8188 - val_loss: 8.6413 - val_age_loss: 8.3307 - val_gender_loss: 0.3106 - val_age_mae: 8.3307 - val_gender_accuracy: 0.8522\n"
          ]
        },
        {
          "output_type": "execute_result",
          "data": {
            "text/plain": [
              "<keras.src.callbacks.History at 0x789fac207fa0>"
            ]
          },
          "metadata": {},
          "execution_count": 39
        }
      ]
    },
    {
      "cell_type": "code",
      "source": [],
      "metadata": {
        "id": "yp3bNwLXIA84"
      },
      "execution_count": null,
      "outputs": []
    }
  ]
}