{
 "cells": [
  {
   "cell_type": "markdown",
   "id": "6c28ddfc-06e9-458f-8e58-144b0619fd04",
   "metadata": {},
   "source": [
    "# REGRESSION"
   ]
  },
  {
   "cell_type": "code",
   "execution_count": 1,
   "id": "1add3e09-572f-4b67-bd94-b3091d4a0a10",
   "metadata": {},
   "outputs": [],
   "source": [
    "import numpy as np\n",
    "import pandas as pd"
   ]
  },
  {
   "cell_type": "code",
   "execution_count": 2,
   "id": "d4f38811-aa31-4c33-a7c4-22b2429cc8d8",
   "metadata": {},
   "outputs": [],
   "source": [
    "df = pd.DataFrame([[8,8,4],[7,9,5],[6,10,6],[5,12,7]],columns=['cgpa','profile_score','lpa'])"
   ]
  },
  {
   "cell_type": "code",
   "execution_count": 3,
   "id": "1049a46d-4828-4edc-b094-23a098748b17",
   "metadata": {},
   "outputs": [
    {
     "data": {
      "text/html": [
       "<div>\n",
       "<style scoped>\n",
       "    .dataframe tbody tr th:only-of-type {\n",
       "        vertical-align: middle;\n",
       "    }\n",
       "\n",
       "    .dataframe tbody tr th {\n",
       "        vertical-align: top;\n",
       "    }\n",
       "\n",
       "    .dataframe thead th {\n",
       "        text-align: right;\n",
       "    }\n",
       "</style>\n",
       "<table border=\"1\" class=\"dataframe\">\n",
       "  <thead>\n",
       "    <tr style=\"text-align: right;\">\n",
       "      <th></th>\n",
       "      <th>cgpa</th>\n",
       "      <th>profile_score</th>\n",
       "      <th>lpa</th>\n",
       "    </tr>\n",
       "  </thead>\n",
       "  <tbody>\n",
       "    <tr>\n",
       "      <th>0</th>\n",
       "      <td>8</td>\n",
       "      <td>8</td>\n",
       "      <td>4</td>\n",
       "    </tr>\n",
       "    <tr>\n",
       "      <th>1</th>\n",
       "      <td>7</td>\n",
       "      <td>9</td>\n",
       "      <td>5</td>\n",
       "    </tr>\n",
       "    <tr>\n",
       "      <th>2</th>\n",
       "      <td>6</td>\n",
       "      <td>10</td>\n",
       "      <td>6</td>\n",
       "    </tr>\n",
       "    <tr>\n",
       "      <th>3</th>\n",
       "      <td>5</td>\n",
       "      <td>12</td>\n",
       "      <td>7</td>\n",
       "    </tr>\n",
       "  </tbody>\n",
       "</table>\n",
       "</div>"
      ],
      "text/plain": [
       "   cgpa  profile_score  lpa\n",
       "0     8              8    4\n",
       "1     7              9    5\n",
       "2     6             10    6\n",
       "3     5             12    7"
      ]
     },
     "execution_count": 3,
     "metadata": {},
     "output_type": "execute_result"
    }
   ],
   "source": [
    "df"
   ]
  },
  {
   "cell_type": "code",
   "execution_count": 4,
   "id": "dd04516f-9c2e-4592-b854-e48c4f7debef",
   "metadata": {},
   "outputs": [],
   "source": [
    "def initialize_parameters(layer_dims):\n",
    "  \n",
    "  np.random.seed(3)\n",
    "  parameters = {}\n",
    "  L = len(layer_dims)         \n",
    "\n",
    "  for l in range(1, L):\n",
    "\n",
    "    parameters['W' + str(l)] = np.ones((layer_dims[l-1], layer_dims[l]))*0.1\n",
    "    parameters['b' + str(l)] = np.zeros((layer_dims[l], 1))\n",
    "      \n",
    "  return parameters"
   ]
  },
  {
   "cell_type": "code",
   "execution_count": 5,
   "id": "ae2af9a4-d169-47f0-9c90-e3a36f499bc4",
   "metadata": {},
   "outputs": [
    {
     "data": {
      "text/plain": [
       "{'W1': array([[0.1, 0.1],\n",
       "        [0.1, 0.1]]),\n",
       " 'b1': array([[0.],\n",
       "        [0.]]),\n",
       " 'W2': array([[0.1],\n",
       "        [0.1]]),\n",
       " 'b2': array([[0.]])}"
      ]
     },
     "execution_count": 5,
     "metadata": {},
     "output_type": "execute_result"
    }
   ],
   "source": [
    "initialize_parameters([2,2,1])"
   ]
  },
  {
   "cell_type": "code",
   "execution_count": 6,
   "id": "ef98ad3c-9a56-41b2-b298-1379ebdc683a",
   "metadata": {},
   "outputs": [],
   "source": [
    "def linear_forward(A_prev, W, b):\n",
    "  \n",
    "  Z = np.dot(W.T, A_prev) + b\n",
    "  \n",
    "  return Z"
   ]
  },
  {
   "cell_type": "code",
   "execution_count": 7,
   "id": "9f79fd3f-122a-46f8-b441-6576eb17c4d4",
   "metadata": {},
   "outputs": [],
   "source": [
    "# Forward Propagation\n",
    "\n",
    "def L_layer_forward(X, parameters):\n",
    "\n",
    "  A = X\n",
    "  L = len(parameters) // 2          \n",
    "  \n",
    "  for l in range(1, L+1):\n",
    "    A_prev = A \n",
    "    Wl = parameters['W' + str(l)]\n",
    "    bl = parameters['b' + str(l)]\n",
    "    print(\"A\"+str(l-1)+\": \", A_prev)\n",
    "    print(\"W\"+str(l)+\": \", Wl)\n",
    "    print(\"b\"+str(l)+\": \", bl)\n",
    "    print(\"--\"*20)\n",
    "\n",
    "    A = linear_forward(A_prev, Wl, bl)\n",
    "    print(\"A\"+str(l)+\": \", A)\n",
    "    print(\"**\"*20)\n",
    "          \n",
    "  return A,A_prev"
   ]
  },
  {
   "cell_type": "code",
   "execution_count": 8,
   "id": "ffaee5b6-6a53-4b96-a106-4748785b2438",
   "metadata": {},
   "outputs": [
    {
     "name": "stdout",
     "output_type": "stream",
     "text": [
      "A0:  [[8]\n",
      " [8]]\n",
      "W1:  [[0.1 0.1]\n",
      " [0.1 0.1]]\n",
      "b1:  [[0.]\n",
      " [0.]]\n",
      "----------------------------------------\n",
      "A1:  [[1.6]\n",
      " [1.6]]\n",
      "****************************************\n",
      "A1:  [[1.6]\n",
      " [1.6]]\n",
      "W2:  [[0.1]\n",
      " [0.1]]\n",
      "b2:  [[0.]]\n",
      "----------------------------------------\n",
      "A2:  [[0.32]]\n",
      "****************************************\n"
     ]
    }
   ],
   "source": [
    "X = df[['cgpa', 'profile_score']].values[0].reshape(2,1) # Shape(no of features, no. of training example)\n",
    "y = df[['lpa']].values[0][0]\n",
    "\n",
    "# Parameter initialization\n",
    "parameters = initialize_parameters([2,2,1])\n",
    "\n",
    "y_hat,A1 = L_layer_forward(X, parameters)"
   ]
  },
  {
   "cell_type": "code",
   "execution_count": 9,
   "id": "89c82949-d061-463e-8fdd-0c4b811d242b",
   "metadata": {},
   "outputs": [],
   "source": [
    "y_hat = y_hat[0][0]"
   ]
  },
  {
   "cell_type": "code",
   "execution_count": 10,
   "id": "6fa8d872-4dce-411f-b526-9051650c439c",
   "metadata": {},
   "outputs": [
    {
     "data": {
      "text/plain": [
       "array([[1.6],\n",
       "       [1.6]])"
      ]
     },
     "execution_count": 10,
     "metadata": {},
     "output_type": "execute_result"
    }
   ],
   "source": [
    "A1"
   ]
  },
  {
   "cell_type": "code",
   "execution_count": 11,
   "id": "dc80eaf4-7a57-4357-abb8-777cec45d16f",
   "metadata": {},
   "outputs": [
    {
     "data": {
      "text/plain": [
       "13.542399999999997"
      ]
     },
     "execution_count": 11,
     "metadata": {},
     "output_type": "execute_result"
    }
   ],
   "source": [
    "loss = (y-y_hat)**2\n",
    "loss"
   ]
  },
  {
   "cell_type": "code",
   "execution_count": 12,
   "id": "17bcfb2a-b18b-48e4-93e3-52d64f25b90f",
   "metadata": {},
   "outputs": [],
   "source": [
    "def update_parameters(parameters,y,y_hat,A1,X):\n",
    "  parameters['W2'][0][0] = parameters['W2'][0][0] + (0.001 * 2 * (y - y_hat)*A1[0][0])\n",
    "  parameters['W2'][1][0] = parameters['W2'][1][0] + (0.001 * 2 * (y - y_hat)*A1[1][0])\n",
    "  parameters['b2'][0][0] = parameters['W2'][1][0] + (0.001 * 2 * (y - y_hat))\n",
    "\n",
    "  parameters['W1'][0][0] = parameters['W1'][0][0] + (0.001 * 2 * (y - y_hat)*parameters['W2'][0][0]*X[0][0])\n",
    "  parameters['W1'][0][1] = parameters['W1'][0][1] + (0.001 * 2 * (y - y_hat)*parameters['W2'][0][0]*X[1][0])\n",
    "  parameters['b1'][0][0] = parameters['b1'][0][0] + (0.001 * 2 * (y - y_hat)*parameters['W2'][0][0])\n",
    "\n",
    "  parameters['W1'][1][0] = parameters['W1'][1][0] + (0.001 * 2 * (y - y_hat)*parameters['W2'][1][0]*X[0][0])\n",
    "  parameters['W1'][1][1] = parameters['W1'][1][1] + (0.001 * 2 * (y - y_hat)*parameters['W2'][1][0]*X[1][0])\n",
    "  parameters['b1'][1][0] = parameters['b1'][1][0] + (0.001 * 2 * (y - y_hat)*parameters['W2'][1][0])"
   ]
  },
  {
   "cell_type": "code",
   "execution_count": 13,
   "id": "d0c8a3db-3ec6-485a-b385-20e8a74ac1ed",
   "metadata": {},
   "outputs": [],
   "source": [
    "update_parameters(parameters,y,y_hat,A1,X)"
   ]
  },
  {
   "cell_type": "code",
   "execution_count": 14,
   "id": "eda58fb3-0d37-4baf-91eb-26e7479c2e04",
   "metadata": {},
   "outputs": [
    {
     "data": {
      "text/plain": [
       "{'W1': array([[0.10658137, 0.10658137],\n",
       "        [0.10658137, 0.10658137]]),\n",
       " 'b1': array([[0.00082267],\n",
       "        [0.00082267]]),\n",
       " 'W2': array([[0.111776],\n",
       "        [0.111776]]),\n",
       " 'b2': array([[0.119136]])}"
      ]
     },
     "execution_count": 14,
     "metadata": {},
     "output_type": "execute_result"
    }
   ],
   "source": [
    "parameters"
   ]
  },
  {
   "cell_type": "code",
   "execution_count": 15,
   "id": "58daa3b0-f7a8-4c4d-8e72-346c0b2bd216",
   "metadata": {},
   "outputs": [
    {
     "name": "stdout",
     "output_type": "stream",
     "text": [
      "A0:  [[7]\n",
      " [9]]\n",
      "W1:  [[0.10658137 0.10658137]\n",
      " [0.10658137 0.10658137]]\n",
      "b1:  [[0.00082267]\n",
      " [0.00082267]]\n",
      "----------------------------------------\n",
      "A1:  [[1.70612461]\n",
      " [1.70612461]]\n",
      "****************************************\n",
      "A1:  [[1.70612461]\n",
      " [1.70612461]]\n",
      "W2:  [[0.111776]\n",
      " [0.111776]]\n",
      "b2:  [[0.119136]]\n",
      "----------------------------------------\n",
      "A2:  [[0.50054357]]\n",
      "****************************************\n"
     ]
    }
   ],
   "source": [
    "X = df[['cgpa', 'profile_score']].values[1].reshape(2,1) # Shape(no of features, no. of training exaplme)\n",
    "y = df[['lpa']].values[1][0]\n",
    "\n",
    "y_hat,A1 = L_layer_forward(X,parameters)\n",
    "y_hat = y_hat[0][0]"
   ]
  },
  {
   "cell_type": "code",
   "execution_count": 16,
   "id": "36515251-5e6a-44ef-b838-ab590343e5c4",
   "metadata": {},
   "outputs": [
    {
     "data": {
      "text/plain": [
       "{'W1': array([[0.11458955, 0.1168776 ],\n",
       "        [0.11458955, 0.1168776 ]]),\n",
       " 'b1': array([[0.0019667],\n",
       "        [0.0019667]]),\n",
       " 'W2': array([[0.12712927],\n",
       "        [0.12712927]]),\n",
       " 'b2': array([[0.13612818]])}"
      ]
     },
     "execution_count": 16,
     "metadata": {},
     "output_type": "execute_result"
    }
   ],
   "source": [
    "update_parameters(parameters,y,y_hat,A1,X)\n",
    "parameters"
   ]
  },
  {
   "cell_type": "code",
   "execution_count": 17,
   "id": "fedef864-458e-46ce-8d39-62f1102e47b5",
   "metadata": {},
   "outputs": [
    {
     "name": "stdout",
     "output_type": "stream",
     "text": [
      "A0:  [[ 6]\n",
      " [10]]\n",
      "W1:  [[0.11458955 0.1168776 ]\n",
      " [0.11458955 0.1168776 ]]\n",
      "b1:  [[0.0019667]\n",
      " [0.0019667]]\n",
      "----------------------------------------\n",
      "A1:  [[1.83539945]\n",
      " [1.87200826]]\n",
      "****************************************\n",
      "A1:  [[1.83539945]\n",
      " [1.87200826]]\n",
      "W2:  [[0.12712927]\n",
      " [0.12712927]]\n",
      "b2:  [[0.13612818]]\n",
      "----------------------------------------\n",
      "A2:  [[0.6074482]]\n",
      "****************************************\n"
     ]
    }
   ],
   "source": [
    "X = df[['cgpa', 'profile_score']].values[2].reshape(2,1) # Shape(no of features, no. of training exaplme)\n",
    "y = df[['lpa']].values[2][0]\n",
    "\n",
    "y_hat,A1 = L_layer_forward(X,parameters)\n",
    "y_hat = y_hat[0][0]"
   ]
  },
  {
   "cell_type": "code",
   "execution_count": 18,
   "id": "011e37ab-140e-4cf0-a86b-ea03426a653d",
   "metadata": {},
   "outputs": [
    {
     "data": {
      "text/plain": [
       "{'W1': array([[0.12409711, 0.13272353],\n",
       "        [0.12412266, 0.13276611]]),\n",
       " 'b1': array([[0.00355129],\n",
       "        [0.00355555]]),\n",
       " 'W2': array([[0.14692424],\n",
       "        [0.14731907]]),\n",
       " 'b2': array([[0.15810417]])}"
      ]
     },
     "execution_count": 18,
     "metadata": {},
     "output_type": "execute_result"
    }
   ],
   "source": [
    "update_parameters(parameters,y,y_hat,A1,X)\n",
    "parameters"
   ]
  },
  {
   "cell_type": "code",
   "execution_count": 19,
   "id": "4053a470-9b3e-43bc-81f7-eb2cc2e239a4",
   "metadata": {},
   "outputs": [
    {
     "name": "stdout",
     "output_type": "stream",
     "text": [
      "A0:  [[ 5]\n",
      " [12]]\n",
      "W1:  [[0.12409711 0.13272353]\n",
      " [0.12412266 0.13276611]]\n",
      "b1:  [[0.00355129]\n",
      " [0.00355555]]\n",
      "----------------------------------------\n",
      "A1:  [[2.11350869]\n",
      " [2.26036654]]\n",
      "****************************************\n",
      "A1:  [[2.11350869]\n",
      " [2.26036654]]\n",
      "W2:  [[0.14692424]\n",
      " [0.14731907]]\n",
      "b2:  [[0.15810417]]\n",
      "----------------------------------------\n",
      "A2:  [[0.80162493]]\n",
      "****************************************\n"
     ]
    }
   ],
   "source": [
    "X = df[['cgpa', 'profile_score']].values[3].reshape(2,1) # Shape(no of features, no. of training exaplme)\n",
    "y = df[['lpa']].values[3][0]\n",
    "\n",
    "y_hat,A1 = L_layer_forward(X,parameters)\n",
    "y_hat = y_hat[0][0]"
   ]
  },
  {
   "cell_type": "code",
   "execution_count": 20,
   "id": "6b3f51f5-1e4f-4ba5-9c21-68083e9ac639",
   "metadata": {},
   "outputs": [
    {
     "data": {
      "text/plain": [
       "{'W1': array([[0.13482804, 0.15847776],\n",
       "        [0.1349909 , 0.15884991]]),\n",
       " 'b1': array([[0.00569748],\n",
       "        [0.0057292 ]]),\n",
       " 'W2': array([[0.17312488],\n",
       "        [0.17534027]]),\n",
       " 'b2': array([[0.18773702]])}"
      ]
     },
     "execution_count": 20,
     "metadata": {},
     "output_type": "execute_result"
    }
   ],
   "source": [
    "update_parameters(parameters,y,y_hat,A1,X)\n",
    "parameters"
   ]
  },
  {
   "cell_type": "code",
   "execution_count": 21,
   "id": "babd3516-6901-40de-a4cc-934a3541cb8b",
   "metadata": {},
   "outputs": [
    {
     "name": "stdout",
     "output_type": "stream",
     "text": [
      "A0:  [[8]\n",
      " [8]]\n",
      "W1:  [[0.1 0.1]\n",
      " [0.1 0.1]]\n",
      "b1:  [[0.]\n",
      " [0.]]\n",
      "----------------------------------------\n",
      "A1:  [[1.6]\n",
      " [1.6]]\n",
      "****************************************\n",
      "A1:  [[1.6]\n",
      " [1.6]]\n",
      "W2:  [[0.1]\n",
      " [0.1]]\n",
      "b2:  [[0.]]\n",
      "----------------------------------------\n",
      "A2:  [[0.32]]\n",
      "****************************************\n",
      "A0:  [[7]\n",
      " [9]]\n",
      "W1:  [[0.10658137 0.10658137]\n",
      " [0.10658137 0.10658137]]\n",
      "b1:  [[0.00082267]\n",
      " [0.00082267]]\n",
      "----------------------------------------\n",
      "A1:  [[1.70612461]\n",
      " [1.70612461]]\n",
      "****************************************\n",
      "A1:  [[1.70612461]\n",
      " [1.70612461]]\n",
      "W2:  [[0.111776]\n",
      " [0.111776]]\n",
      "b2:  [[0.119136]]\n",
      "----------------------------------------\n",
      "A2:  [[0.50054357]]\n",
      "****************************************\n",
      "A0:  [[ 6]\n",
      " [10]]\n",
      "W1:  [[0.11458955 0.1168776 ]\n",
      " [0.11458955 0.1168776 ]]\n",
      "b1:  [[0.0019667]\n",
      " [0.0019667]]\n",
      "----------------------------------------\n",
      "A1:  [[1.83539945]\n",
      " [1.87200826]]\n",
      "****************************************\n",
      "A1:  [[1.83539945]\n",
      " [1.87200826]]\n",
      "W2:  [[0.12712927]\n",
      " [0.12712927]]\n",
      "b2:  [[0.13612818]]\n",
      "----------------------------------------\n",
      "A2:  [[0.6074482]]\n",
      "****************************************\n",
      "A0:  [[ 5]\n",
      " [12]]\n",
      "W1:  [[0.12409711 0.13272353]\n",
      " [0.12412266 0.13276611]]\n",
      "b1:  [[0.00355129]\n",
      " [0.00355555]]\n",
      "----------------------------------------\n",
      "A1:  [[2.11350869]\n",
      " [2.26036654]]\n",
      "****************************************\n",
      "A1:  [[2.11350869]\n",
      " [2.26036654]]\n",
      "W2:  [[0.14692424]\n",
      " [0.14731907]]\n",
      "b2:  [[0.15810417]]\n",
      "----------------------------------------\n",
      "A2:  [[0.80162493]]\n",
      "****************************************\n",
      "Epoch -  1 Loss -  25.321744156025517\n",
      "A0:  [[8]\n",
      " [8]]\n",
      "W1:  [[0.13482804 0.15847776]\n",
      " [0.1349909  0.15884991]]\n",
      "b1:  [[0.00569748]\n",
      " [0.0057292 ]]\n",
      "----------------------------------------\n",
      "A1:  [[2.16424899]\n",
      " [2.54435052]]\n",
      "****************************************\n",
      "A1:  [[2.16424899]\n",
      " [2.54435052]]\n",
      "W2:  [[0.17312488]\n",
      " [0.17534027]]\n",
      "b2:  [[0.18773702]]\n",
      "----------------------------------------\n",
      "A2:  [[1.00854947]]\n",
      "****************************************\n",
      "A0:  [[7]\n",
      " [9]]\n",
      "W1:  [[0.1437341  0.16738383]\n",
      " [0.14411185 0.16797086]]\n",
      "b1:  [[0.00681073]\n",
      " [0.00686932]]\n",
      "----------------------------------------\n",
      "A1:  [[2.30995614]\n",
      " [2.69029382]]\n",
      "****************************************\n",
      "A1:  [[2.30995614]\n",
      " [2.69029382]]\n",
      "W2:  [[0.18607337]\n",
      " [0.19056287]]\n",
      "b2:  [[0.19654577]]\n",
      "----------------------------------------\n",
      "A2:  [[1.13903718]]\n",
      "****************************************\n",
      "A0:  [[ 6]\n",
      " [10]]\n",
      "W1:  [[0.15475619 0.18155508]\n",
      " [0.15553536 0.18265822]]\n",
      "b1:  [[0.00838532]\n",
      " [0.00850125]]\n",
      "----------------------------------------\n",
      "A1:  [[2.49227603]\n",
      " [2.92441391]]\n",
      "****************************************\n",
      "A1:  [[2.49227603]\n",
      " [2.92441391]]\n",
      "W2:  [[0.20391068]\n",
      " [0.21133712]]\n",
      "b2:  [[0.21905904]]\n",
      "----------------------------------------\n",
      "A2:  [[1.34529793]]\n",
      "****************************************\n",
      "A0:  [[ 5]\n",
      " [12]]\n",
      "W1:  [[0.16744187 0.20269788]\n",
      " [0.16886056 0.20486689]]\n",
      "b1:  [[0.0104996 ]\n",
      " [0.01072211]]\n",
      "----------------------------------------\n",
      "A1:  [[2.87403566]\n",
      " [3.48261418]]\n",
      "****************************************\n",
      "A1:  [[2.87403566]\n",
      " [3.48261418]]\n",
      "W2:  [[0.22711228]\n",
      " [0.23856167]]\n",
      "b2:  [[0.24787107]]\n",
      "----------------------------------------\n",
      "A2:  [[1.73141811]]\n",
      "****************************************\n",
      "Epoch -  2 Loss -  18.320004165722047\n",
      "A0:  [[8]\n",
      " [8]]\n",
      "W1:  [[0.18100301 0.23524462]\n",
      " [0.18336278 0.23967222]]\n",
      "b1:  [[0.01321183]\n",
      " [0.01362256]]\n",
      "----------------------------------------\n",
      "A1:  [[2.92813816]\n",
      " [3.8129573 ]]\n",
      "****************************************\n",
      "A1:  [[2.92813816]\n",
      " [3.8129573 ]]\n",
      "W2:  [[0.25739647]\n",
      " [0.27525854]]\n",
      "b2:  [[0.28579571]]\n",
      "----------------------------------------\n",
      "A2:  [[2.08903719]]\n",
      "****************************************\n",
      "A0:  [[7]\n",
      " [9]]\n",
      "W1:  [[0.18921518 0.24345679]\n",
      " [0.1922245  0.24853394]]\n",
      "b1:  [[0.01423835]\n",
      " [0.01473027]]\n",
      "----------------------------------------\n",
      "A1:  [[3.06876509]\n",
      " [3.95573325]]\n",
      "****************************************\n",
      "A1:  [[3.06876509]\n",
      " [3.95573325]]\n",
      "W2:  [[0.26858759]\n",
      " [0.28983138]]\n",
      "b2:  [[0.29365331]]\n",
      "----------------------------------------\n",
      "A2:  [[2.26438116]]\n",
      "****************************************\n",
      "A0:  [[ 6]\n",
      " [10]]\n",
      "W1:  [[0.20014476 0.25750911]\n",
      " [0.20415354 0.26387128]]\n",
      "b1:  [[0.01579972]\n",
      " [0.01643442]]\n",
      "----------------------------------------\n",
      "A1:  [[3.25820367]\n",
      " [4.20020184]]\n",
      "****************************************\n",
      "A1:  [[3.25820367]\n",
      " [4.20020184]]\n",
      "W2:  [[0.28537753]\n",
      " [0.31147414]]\n",
      "b2:  [[0.31694538]]\n",
      "----------------------------------------\n",
      "A2:  [[2.55501776]]\n",
      "****************************************\n",
      "A0:  [[ 5]\n",
      " [12]]\n",
      "W1:  [[0.21287024 0.27871824]\n",
      " [0.21822616 0.28732564]]\n",
      "b1:  [[0.01792063]\n",
      " [0.01877986]]\n",
      "----------------------------------------\n",
      "A1:  [[3.7009857 ]\n",
      " [4.86027872]]\n",
      "****************************************\n",
      "A1:  [[3.7009857 ]\n",
      " [4.86027872]]\n",
      "W2:  [[0.30782644]\n",
      " [0.34041338]]\n",
      "b2:  [[0.34730334]]\n",
      "----------------------------------------\n",
      "A2:  [[3.14106851]]\n",
      "****************************************\n",
      "Epoch -  3 Loss -  9.473661050729628\n",
      "A0:  [[8]\n",
      " [8]]\n",
      "W1:  [[0.22585131 0.3098728 ]\n",
      " [0.23281    0.32232686]]\n",
      "b1:  [[0.02051684]\n",
      " [0.02169662]]\n",
      "----------------------------------------\n",
      "A1:  [[3.68980727]\n",
      " [5.07929387]]\n",
      "****************************************\n",
      "A1:  [[3.68980727]\n",
      " [5.07929387]]\n",
      "W2:  [[0.33639014]\n",
      " [0.37792434]]\n",
      "b2:  [[0.38564221]]\n",
      "----------------------------------------\n",
      "A2:  [[3.54644581]]\n",
      "****************************************\n",
      "A0:  [[7]\n",
      " [9]]\n",
      "W1:  [[0.22831673 0.31233823]\n",
      " [0.23558598 0.32510284]]\n",
      "b1:  [[0.02082502]\n",
      " [0.02204362]]\n",
      "----------------------------------------\n",
      "A1:  [[3.73931597]\n",
      " [5.13433676]]\n",
      "****************************************\n",
      "A1:  [[3.73931597]\n",
      " [5.13433676]]\n",
      "W2:  [[0.3397372 ]\n",
      " [0.38253181]]\n",
      "b2:  [[0.38343892]]\n",
      "----------------------------------------\n",
      "A2:  [[3.61787081]]\n",
      "****************************************\n",
      "A0:  [[ 6]\n",
      " [10]]\n",
      "W1:  [[0.23509059 0.32104747]\n",
      " [0.24326252 0.33497268]]\n",
      "b1:  [[0.02179271]\n",
      " [0.02314027]]\n",
      "----------------------------------------\n",
      "A1:  [[3.86496148]\n",
      " [5.2991519 ]]\n",
      "****************************************\n",
      "A1:  [[3.86496148]\n",
      " [5.2991519 ]]\n",
      "W2:  [[0.35007363]\n",
      " [0.39672445]]\n",
      "b2:  [[0.39948871]]\n",
      "----------------------------------------\n",
      "A2:  [[3.85481293]]\n",
      "****************************************\n",
      "A0:  [[ 5]\n",
      " [12]]\n",
      "W1:  [[0.24452913 0.33677838]\n",
      " [0.25406036 0.35296907]]\n",
      "b1:  [[0.02336581]\n",
      " [0.02493991]]\n",
      "----------------------------------------\n",
      "A1:  [[4.29473577]\n",
      " [5.94446068]]\n",
      "****************************************\n",
      "A1:  [[4.29473577]\n",
      " [5.94446068]]\n",
      "W2:  [[0.36665576]\n",
      " [0.41945979]]\n",
      "b2:  [[0.42375017]]\n",
      "----------------------------------------\n",
      "A2:  [[4.49190204]]\n",
      "****************************************\n",
      "Epoch -  4 Loss -  3.2520938634031613\n",
      "A0:  [[8]\n",
      " [8]]\n",
      "W1:  [[0.25426555 0.36014576]\n",
      " [0.2653287  0.38001309]]\n",
      "b1:  [[0.02531309]\n",
      " [0.02719358]]\n",
      "----------------------------------------\n",
      "A1:  [[4.18206705]\n",
      " [5.94846444]]\n",
      "****************************************\n",
      "A1:  [[4.18206705]\n",
      " [5.94846444]]\n",
      "W2:  [[0.388199  ]\n",
      " [0.44927837]]\n",
      "b2:  [[0.45429457]]\n",
      "----------------------------------------\n",
      "A2:  [[4.75028523]]\n",
      "****************************************\n",
      "A0:  [[7]\n",
      " [9]]\n",
      "W1:  [[0.24968072 0.35556094]\n",
      " [0.26004246 0.37472686]]\n",
      "b1:  [[0.02473998]\n",
      " [0.0265328 ]]\n",
      "----------------------------------------\n",
      "A1:  [[4.11288719]\n",
      " [5.88800108]]\n",
      "****************************************\n",
      "A1:  [[4.11288719]\n",
      " [5.88800108]]\n",
      "W2:  [[0.38192351]\n",
      " [0.44035228]]\n",
      "b2:  [[0.43885171]]\n",
      "----------------------------------------\n",
      "A2:  [[4.60245475]]\n",
      "****************************************\n",
      "A0:  [[ 6]\n",
      " [10]]\n",
      "W1:  [[0.25182457 0.35831731]\n",
      " [0.26251936 0.37791144]]\n",
      "b1:  [[0.02504625]\n",
      " [0.02688664]]\n",
      "----------------------------------------\n",
      "A1:  [[4.16118723]\n",
      " [5.95590488]]\n",
      "****************************************\n",
      "A1:  [[4.16118723]\n",
      " [5.95590488]]\n",
      "W2:  [[0.38519363]\n",
      " [0.44503378]]\n",
      "b2:  [[0.44582887]]\n",
      "----------------------------------------\n",
      "A2:  [[4.69927052]]\n",
      "****************************************\n",
      "A0:  [[ 5]\n",
      " [12]]\n",
      "W1:  [[0.25800593 0.36861958]\n",
      " [0.26970762 0.38989188]]\n",
      "b1:  [[0.02607647]\n",
      " [0.02808469]]\n",
      "----------------------------------------\n",
      "A1:  [[4.55259758]\n",
      " [6.54988512]]\n",
      "****************************************\n",
      "A1:  [[4.55259758]\n",
      " [6.54988512]]\n",
      "W2:  [[0.39601879]\n",
      " [0.46052782]]\n",
      "b2:  [[0.46312928]]\n",
      "----------------------------------------\n",
      "A2:  [[5.28244776]]\n",
      "****************************************\n",
      "Epoch -  5 Loss -  1.3407132589299962\n"
     ]
    },
    {
     "data": {
      "text/plain": [
       "{'W1': array([[0.26507636, 0.38558861],\n",
       "        [0.27800387, 0.40980287]]),\n",
       " 'b1': array([[0.02749056],\n",
       "        [0.02974394]]),\n",
       " 'W2': array([[0.41165744],\n",
       "        [0.48302736]]),\n",
       " 'b2': array([[0.48646246]])}"
      ]
     },
     "execution_count": 21,
     "metadata": {},
     "output_type": "execute_result"
    }
   ],
   "source": [
    "parameters = initialize_parameters([2,2,1])\n",
    "epochs=5\n",
    "\n",
    "for i in range(epochs):\n",
    "\n",
    "    Loss = []\n",
    "\n",
    "    for j in range(df.shape[0]):\n",
    "        X = df[['cgpa','profile_score']].values[j].reshape(2,1)\n",
    "        y = df[['lpa']].values[j][0]\n",
    "\n",
    "        y_hat,A1 = L_layer_forward(X,parameters)\n",
    "        y_hat = y_hat[0][0]\n",
    "\n",
    "        update_parameters(parameters,y,y_hat,A1,X)\n",
    "        Loss.append((y - y_hat)**2)\n",
    "\n",
    "    print('Epoch - ',i+1,'Loss - ',np.array(Loss).mean())\n",
    "\n",
    "parameters"
   ]
  },
  {
   "cell_type": "markdown",
   "id": "580bba8e-209b-4628-b499-3f14bc762a6d",
   "metadata": {},
   "source": [
    "# using keras"
   ]
  },
  {
   "cell_type": "code",
   "execution_count": 2,
   "id": "bf362375-f18e-4509-aec7-1fdacb8fb2a1",
   "metadata": {},
   "outputs": [],
   "source": [
    "import tensorflow\n",
    "from tensorflow import keras\n",
    "from keras import Sequential\n",
    "from keras.layers import Dense\n",
    "from tensorflow.keras.optimizers import Adam"
   ]
  },
  {
   "cell_type": "code",
   "execution_count": 3,
   "id": "6bbaf77f-a2b3-46c5-b780-b6b3b0932a73",
   "metadata": {},
   "outputs": [],
   "source": [
    "df = pd.DataFrame([[8,8,4],[7,9,5],[6,10,6],[5,12,7]],columns=['cgpa','profile_score','lpa'])"
   ]
  },
  {
   "cell_type": "code",
   "execution_count": 4,
   "id": "edd86c2c-4e8c-42d2-aeda-1d4d6a1fc3e1",
   "metadata": {},
   "outputs": [
    {
     "data": {
      "text/html": [
       "<div>\n",
       "<style scoped>\n",
       "    .dataframe tbody tr th:only-of-type {\n",
       "        vertical-align: middle;\n",
       "    }\n",
       "\n",
       "    .dataframe tbody tr th {\n",
       "        vertical-align: top;\n",
       "    }\n",
       "\n",
       "    .dataframe thead th {\n",
       "        text-align: right;\n",
       "    }\n",
       "</style>\n",
       "<table border=\"1\" class=\"dataframe\">\n",
       "  <thead>\n",
       "    <tr style=\"text-align: right;\">\n",
       "      <th></th>\n",
       "      <th>cgpa</th>\n",
       "      <th>profile_score</th>\n",
       "      <th>lpa</th>\n",
       "    </tr>\n",
       "  </thead>\n",
       "  <tbody>\n",
       "    <tr>\n",
       "      <th>0</th>\n",
       "      <td>8</td>\n",
       "      <td>8</td>\n",
       "      <td>4</td>\n",
       "    </tr>\n",
       "    <tr>\n",
       "      <th>1</th>\n",
       "      <td>7</td>\n",
       "      <td>9</td>\n",
       "      <td>5</td>\n",
       "    </tr>\n",
       "    <tr>\n",
       "      <th>2</th>\n",
       "      <td>6</td>\n",
       "      <td>10</td>\n",
       "      <td>6</td>\n",
       "    </tr>\n",
       "    <tr>\n",
       "      <th>3</th>\n",
       "      <td>5</td>\n",
       "      <td>12</td>\n",
       "      <td>7</td>\n",
       "    </tr>\n",
       "  </tbody>\n",
       "</table>\n",
       "</div>"
      ],
      "text/plain": [
       "   cgpa  profile_score  lpa\n",
       "0     8              8    4\n",
       "1     7              9    5\n",
       "2     6             10    6\n",
       "3     5             12    7"
      ]
     },
     "execution_count": 4,
     "metadata": {},
     "output_type": "execute_result"
    }
   ],
   "source": [
    "df"
   ]
  },
  {
   "cell_type": "code",
   "execution_count": 5,
   "id": "020ccee4-3fa7-4ba5-9eab-4696b18558de",
   "metadata": {},
   "outputs": [
    {
     "name": "stderr",
     "output_type": "stream",
     "text": [
      "C:\\Users\\ADMIN\\AppData\\Local\\Programs\\Python\\Python312\\Lib\\site-packages\\keras\\src\\layers\\core\\dense.py:88: UserWarning: Do not pass an `input_shape`/`input_dim` argument to a layer. When using Sequential models, prefer using an `Input(shape)` object as the first layer in the model instead.\n",
      "  super().__init__(activity_regularizer=activity_regularizer, **kwargs)\n"
     ]
    }
   ],
   "source": [
    "model = Sequential()\n",
    "model.add(Dense(2,activation='linear',input_dim=2))\n",
    "model.add(Dense(1,activation='linear'))"
   ]
  },
  {
   "cell_type": "code",
   "execution_count": 6,
   "id": "c4dfec12-77d4-4386-83ee-4abbeba2e5e5",
   "metadata": {},
   "outputs": [
    {
     "data": {
      "text/html": [
       "<pre style=\"white-space:pre;overflow-x:auto;line-height:normal;font-family:Menlo,'DejaVu Sans Mono',consolas,'Courier New',monospace\"><span style=\"font-weight: bold\">Model: \"sequential\"</span>\n",
       "</pre>\n"
      ],
      "text/plain": [
       "\u001b[1mModel: \"sequential\"\u001b[0m\n"
      ]
     },
     "metadata": {},
     "output_type": "display_data"
    },
    {
     "data": {
      "text/html": [
       "<pre style=\"white-space:pre;overflow-x:auto;line-height:normal;font-family:Menlo,'DejaVu Sans Mono',consolas,'Courier New',monospace\">┏━━━━━━━━━━━━━━━━━━━━━━━━━━━━━━━━━━━━━━┳━━━━━━━━━━━━━━━━━━━━━━━━━━━━━┳━━━━━━━━━━━━━━━━━┓\n",
       "┃<span style=\"font-weight: bold\"> Layer (type)                         </span>┃<span style=\"font-weight: bold\"> Output Shape                </span>┃<span style=\"font-weight: bold\">         Param # </span>┃\n",
       "┡━━━━━━━━━━━━━━━━━━━━━━━━━━━━━━━━━━━━━━╇━━━━━━━━━━━━━━━━━━━━━━━━━━━━━╇━━━━━━━━━━━━━━━━━┩\n",
       "│ dense (<span style=\"color: #0087ff; text-decoration-color: #0087ff\">Dense</span>)                        │ (<span style=\"color: #00d7ff; text-decoration-color: #00d7ff\">None</span>, <span style=\"color: #00af00; text-decoration-color: #00af00\">2</span>)                   │               <span style=\"color: #00af00; text-decoration-color: #00af00\">6</span> │\n",
       "├──────────────────────────────────────┼─────────────────────────────┼─────────────────┤\n",
       "│ dense_1 (<span style=\"color: #0087ff; text-decoration-color: #0087ff\">Dense</span>)                      │ (<span style=\"color: #00d7ff; text-decoration-color: #00d7ff\">None</span>, <span style=\"color: #00af00; text-decoration-color: #00af00\">1</span>)                   │               <span style=\"color: #00af00; text-decoration-color: #00af00\">3</span> │\n",
       "└──────────────────────────────────────┴─────────────────────────────┴─────────────────┘\n",
       "</pre>\n"
      ],
      "text/plain": [
       "┏━━━━━━━━━━━━━━━━━━━━━━━━━━━━━━━━━━━━━━┳━━━━━━━━━━━━━━━━━━━━━━━━━━━━━┳━━━━━━━━━━━━━━━━━┓\n",
       "┃\u001b[1m \u001b[0m\u001b[1mLayer (type)                        \u001b[0m\u001b[1m \u001b[0m┃\u001b[1m \u001b[0m\u001b[1mOutput Shape               \u001b[0m\u001b[1m \u001b[0m┃\u001b[1m \u001b[0m\u001b[1m        Param #\u001b[0m\u001b[1m \u001b[0m┃\n",
       "┡━━━━━━━━━━━━━━━━━━━━━━━━━━━━━━━━━━━━━━╇━━━━━━━━━━━━━━━━━━━━━━━━━━━━━╇━━━━━━━━━━━━━━━━━┩\n",
       "│ dense (\u001b[38;5;33mDense\u001b[0m)                        │ (\u001b[38;5;45mNone\u001b[0m, \u001b[38;5;34m2\u001b[0m)                   │               \u001b[38;5;34m6\u001b[0m │\n",
       "├──────────────────────────────────────┼─────────────────────────────┼─────────────────┤\n",
       "│ dense_1 (\u001b[38;5;33mDense\u001b[0m)                      │ (\u001b[38;5;45mNone\u001b[0m, \u001b[38;5;34m1\u001b[0m)                   │               \u001b[38;5;34m3\u001b[0m │\n",
       "└──────────────────────────────────────┴─────────────────────────────┴─────────────────┘\n"
      ]
     },
     "metadata": {},
     "output_type": "display_data"
    },
    {
     "data": {
      "text/html": [
       "<pre style=\"white-space:pre;overflow-x:auto;line-height:normal;font-family:Menlo,'DejaVu Sans Mono',consolas,'Courier New',monospace\"><span style=\"font-weight: bold\"> Total params: </span><span style=\"color: #00af00; text-decoration-color: #00af00\">9</span> (36.00 B)\n",
       "</pre>\n"
      ],
      "text/plain": [
       "\u001b[1m Total params: \u001b[0m\u001b[38;5;34m9\u001b[0m (36.00 B)\n"
      ]
     },
     "metadata": {},
     "output_type": "display_data"
    },
    {
     "data": {
      "text/html": [
       "<pre style=\"white-space:pre;overflow-x:auto;line-height:normal;font-family:Menlo,'DejaVu Sans Mono',consolas,'Courier New',monospace\"><span style=\"font-weight: bold\"> Trainable params: </span><span style=\"color: #00af00; text-decoration-color: #00af00\">9</span> (36.00 B)\n",
       "</pre>\n"
      ],
      "text/plain": [
       "\u001b[1m Trainable params: \u001b[0m\u001b[38;5;34m9\u001b[0m (36.00 B)\n"
      ]
     },
     "metadata": {},
     "output_type": "display_data"
    },
    {
     "data": {
      "text/html": [
       "<pre style=\"white-space:pre;overflow-x:auto;line-height:normal;font-family:Menlo,'DejaVu Sans Mono',consolas,'Courier New',monospace\"><span style=\"font-weight: bold\"> Non-trainable params: </span><span style=\"color: #00af00; text-decoration-color: #00af00\">0</span> (0.00 B)\n",
       "</pre>\n"
      ],
      "text/plain": [
       "\u001b[1m Non-trainable params: \u001b[0m\u001b[38;5;34m0\u001b[0m (0.00 B)\n"
      ]
     },
     "metadata": {},
     "output_type": "display_data"
    }
   ],
   "source": [
    "model.summary()"
   ]
  },
  {
   "cell_type": "code",
   "execution_count": 7,
   "id": "3160785e-01a9-4d51-ad18-a4b203bb26d2",
   "metadata": {},
   "outputs": [
    {
     "data": {
      "text/plain": [
       "[array([[ 1.08542   ,  1.0164856 ],\n",
       "        [-0.94612277, -0.771124  ]], dtype=float32),\n",
       " array([0., 0.], dtype=float32),\n",
       " array([[-0.99069875],\n",
       "        [ 0.4413395 ]], dtype=float32),\n",
       " array([0.], dtype=float32)]"
      ]
     },
     "execution_count": 7,
     "metadata": {},
     "output_type": "execute_result"
    }
   ],
   "source": [
    "model.get_weights()"
   ]
  },
  {
   "cell_type": "code",
   "execution_count": 8,
   "id": "2fec1777-c152-48a0-8f0b-462457cf180f",
   "metadata": {},
   "outputs": [],
   "source": [
    "new_weights = [np.array([[0.1,0.1],[0.1,0.1]],dtype=np.float32),\n",
    "              np.array([0.,0.],dtype=np.float32),\n",
    "              np.array([[0.1],[0.1]],dtype=np.float32),\n",
    "              np.array([0.],dtype=np.float32)]"
   ]
  },
  {
   "cell_type": "code",
   "execution_count": 9,
   "id": "6b37424e-c4a3-4f31-aa7b-d46837ca3c86",
   "metadata": {},
   "outputs": [],
   "source": [
    "model.set_weights(new_weights)"
   ]
  },
  {
   "cell_type": "code",
   "execution_count": 10,
   "id": "5f522d21-e387-4ed2-95ea-ff4648a0b1c2",
   "metadata": {},
   "outputs": [
    {
     "data": {
      "text/plain": [
       "[array([[0.1, 0.1],\n",
       "        [0.1, 0.1]], dtype=float32),\n",
       " array([0., 0.], dtype=float32),\n",
       " array([[0.1],\n",
       "        [0.1]], dtype=float32),\n",
       " array([0.], dtype=float32)]"
      ]
     },
     "execution_count": 10,
     "metadata": {},
     "output_type": "execute_result"
    }
   ],
   "source": [
    "model.get_weights()"
   ]
  },
  {
   "cell_type": "code",
   "execution_count": 11,
   "id": "8d77db62-b7dd-4b2b-bc19-3aca2f4ec7cf",
   "metadata": {},
   "outputs": [],
   "source": [
    "model.compile(loss='mean_squared_error',optimizer=Adam(learning_rate=0.001))"
   ]
  },
  {
   "cell_type": "code",
   "execution_count": 12,
   "id": "13cbaed8-f648-4bf7-86d1-d151eb78bad7",
   "metadata": {},
   "outputs": [
    {
     "name": "stdout",
     "output_type": "stream",
     "text": [
      "Epoch 1/75\n",
      "\u001b[1m4/4\u001b[0m \u001b[32m━━━━━━━━━━━━━━━━━━━━\u001b[0m\u001b[37m\u001b[0m \u001b[1m5s\u001b[0m 17ms/step - loss: 31.8140\n",
      "Epoch 2/75\n",
      "\u001b[1m4/4\u001b[0m \u001b[32m━━━━━━━━━━━━━━━━━━━━\u001b[0m\u001b[37m\u001b[0m \u001b[1m0s\u001b[0m 6ms/step - loss: 33.3377  \n",
      "Epoch 3/75\n",
      "\u001b[1m4/4\u001b[0m \u001b[32m━━━━━━━━━━━━━━━━━━━━\u001b[0m\u001b[37m\u001b[0m \u001b[1m0s\u001b[0m 5ms/step - loss: 28.9131  \n",
      "Epoch 4/75\n",
      "\u001b[1m4/4\u001b[0m \u001b[32m━━━━━━━━━━━━━━━━━━━━\u001b[0m\u001b[37m\u001b[0m \u001b[1m0s\u001b[0m 3ms/step - loss: 24.5169  \n",
      "Epoch 5/75\n",
      "\u001b[1m4/4\u001b[0m \u001b[32m━━━━━━━━━━━━━━━━━━━━\u001b[0m\u001b[37m\u001b[0m \u001b[1m0s\u001b[0m 3ms/step - loss: 29.8628  \n",
      "Epoch 6/75\n",
      "\u001b[1m4/4\u001b[0m \u001b[32m━━━━━━━━━━━━━━━━━━━━\u001b[0m\u001b[37m\u001b[0m \u001b[1m0s\u001b[0m 4ms/step - loss: 20.4269  \n",
      "Epoch 7/75\n",
      "\u001b[1m4/4\u001b[0m \u001b[32m━━━━━━━━━━━━━━━━━━━━\u001b[0m\u001b[37m\u001b[0m \u001b[1m0s\u001b[0m 4ms/step - loss: 31.9477 \n",
      "Epoch 8/75\n",
      "\u001b[1m4/4\u001b[0m \u001b[32m━━━━━━━━━━━━━━━━━━━━\u001b[0m\u001b[37m\u001b[0m \u001b[1m0s\u001b[0m 5ms/step - loss: 20.7641 \n",
      "Epoch 9/75\n",
      "\u001b[1m4/4\u001b[0m \u001b[32m━━━━━━━━━━━━━━━━━━━━\u001b[0m\u001b[37m\u001b[0m \u001b[1m0s\u001b[0m 6ms/step - loss: 28.1381 \n",
      "Epoch 10/75\n",
      "\u001b[1m4/4\u001b[0m \u001b[32m━━━━━━━━━━━━━━━━━━━━\u001b[0m\u001b[37m\u001b[0m \u001b[1m0s\u001b[0m 5ms/step - loss: 28.3601 \n",
      "Epoch 11/75\n",
      "\u001b[1m4/4\u001b[0m \u001b[32m━━━━━━━━━━━━━━━━━━━━\u001b[0m\u001b[37m\u001b[0m \u001b[1m0s\u001b[0m 4ms/step - loss: 24.5483  \n",
      "Epoch 12/75\n",
      "\u001b[1m4/4\u001b[0m \u001b[32m━━━━━━━━━━━━━━━━━━━━\u001b[0m\u001b[37m\u001b[0m \u001b[1m0s\u001b[0m 2ms/step - loss: 23.4357  \n",
      "Epoch 13/75\n",
      "\u001b[1m4/4\u001b[0m \u001b[32m━━━━━━━━━━━━━━━━━━━━\u001b[0m\u001b[37m\u001b[0m \u001b[1m0s\u001b[0m 2ms/step - loss: 28.6850  \n",
      "Epoch 14/75\n",
      "\u001b[1m4/4\u001b[0m \u001b[32m━━━━━━━━━━━━━━━━━━━━\u001b[0m\u001b[37m\u001b[0m \u001b[1m0s\u001b[0m 4ms/step - loss: 26.5020 \n",
      "Epoch 15/75\n",
      "\u001b[1m4/4\u001b[0m \u001b[32m━━━━━━━━━━━━━━━━━━━━\u001b[0m\u001b[37m\u001b[0m \u001b[1m0s\u001b[0m 3ms/step - loss: 27.6733  \n",
      "Epoch 16/75\n",
      "\u001b[1m4/4\u001b[0m \u001b[32m━━━━━━━━━━━━━━━━━━━━\u001b[0m\u001b[37m\u001b[0m \u001b[1m0s\u001b[0m 4ms/step - loss: 17.5024 \n",
      "Epoch 17/75\n",
      "\u001b[1m4/4\u001b[0m \u001b[32m━━━━━━━━━━━━━━━━━━━━\u001b[0m\u001b[37m\u001b[0m \u001b[1m0s\u001b[0m 6ms/step - loss: 19.6594 \n",
      "Epoch 18/75\n",
      "\u001b[1m4/4\u001b[0m \u001b[32m━━━━━━━━━━━━━━━━━━━━\u001b[0m\u001b[37m\u001b[0m \u001b[1m0s\u001b[0m 5ms/step - loss: 16.8871 \n",
      "Epoch 19/75\n",
      "\u001b[1m4/4\u001b[0m \u001b[32m━━━━━━━━━━━━━━━━━━━━\u001b[0m\u001b[37m\u001b[0m \u001b[1m0s\u001b[0m 4ms/step - loss: 23.9683  \n",
      "Epoch 20/75\n",
      "\u001b[1m4/4\u001b[0m \u001b[32m━━━━━━━━━━━━━━━━━━━━\u001b[0m\u001b[37m\u001b[0m \u001b[1m0s\u001b[0m 4ms/step - loss: 24.9816  \n",
      "Epoch 21/75\n",
      "\u001b[1m4/4\u001b[0m \u001b[32m━━━━━━━━━━━━━━━━━━━━\u001b[0m\u001b[37m\u001b[0m \u001b[1m0s\u001b[0m 5ms/step - loss: 15.5717 \n",
      "Epoch 22/75\n",
      "\u001b[1m4/4\u001b[0m \u001b[32m━━━━━━━━━━━━━━━━━━━━\u001b[0m\u001b[37m\u001b[0m \u001b[1m0s\u001b[0m 4ms/step - loss: 22.3288  \n",
      "Epoch 23/75\n",
      "\u001b[1m4/4\u001b[0m \u001b[32m━━━━━━━━━━━━━━━━━━━━\u001b[0m\u001b[37m\u001b[0m \u001b[1m0s\u001b[0m 5ms/step - loss: 14.4753 \n",
      "Epoch 24/75\n",
      "\u001b[1m4/4\u001b[0m \u001b[32m━━━━━━━━━━━━━━━━━━━━\u001b[0m\u001b[37m\u001b[0m \u001b[1m0s\u001b[0m 5ms/step - loss: 14.6695  \n",
      "Epoch 25/75\n",
      "\u001b[1m4/4\u001b[0m \u001b[32m━━━━━━━━━━━━━━━━━━━━\u001b[0m\u001b[37m\u001b[0m \u001b[1m0s\u001b[0m 4ms/step - loss: 16.6742 \n",
      "Epoch 26/75\n",
      "\u001b[1m4/4\u001b[0m \u001b[32m━━━━━━━━━━━━━━━━━━━━\u001b[0m\u001b[37m\u001b[0m \u001b[1m0s\u001b[0m 2ms/step - loss: 16.7741 \n",
      "Epoch 27/75\n",
      "\u001b[1m4/4\u001b[0m \u001b[32m━━━━━━━━━━━━━━━━━━━━\u001b[0m\u001b[37m\u001b[0m \u001b[1m0s\u001b[0m 2ms/step - loss: 19.5658 \n",
      "Epoch 28/75\n",
      "\u001b[1m4/4\u001b[0m \u001b[32m━━━━━━━━━━━━━━━━━━━━\u001b[0m\u001b[37m\u001b[0m \u001b[1m0s\u001b[0m 2ms/step - loss: 15.7188 \n",
      "Epoch 29/75\n",
      "\u001b[1m4/4\u001b[0m \u001b[32m━━━━━━━━━━━━━━━━━━━━\u001b[0m\u001b[37m\u001b[0m \u001b[1m0s\u001b[0m 2ms/step - loss: 18.3381 \n",
      "Epoch 30/75\n",
      "\u001b[1m4/4\u001b[0m \u001b[32m━━━━━━━━━━━━━━━━━━━━\u001b[0m\u001b[37m\u001b[0m \u001b[1m0s\u001b[0m 2ms/step - loss: 14.6694 \n",
      "Epoch 31/75\n",
      "\u001b[1m4/4\u001b[0m \u001b[32m━━━━━━━━━━━━━━━━━━━━\u001b[0m\u001b[37m\u001b[0m \u001b[1m0s\u001b[0m 3ms/step - loss: 18.4634 \n",
      "Epoch 32/75\n",
      "\u001b[1m4/4\u001b[0m \u001b[32m━━━━━━━━━━━━━━━━━━━━\u001b[0m\u001b[37m\u001b[0m \u001b[1m0s\u001b[0m 3ms/step - loss: 16.2002 \n",
      "Epoch 33/75\n",
      "\u001b[1m4/4\u001b[0m \u001b[32m━━━━━━━━━━━━━━━━━━━━\u001b[0m\u001b[37m\u001b[0m \u001b[1m0s\u001b[0m 3ms/step - loss: 13.0210 \n",
      "Epoch 34/75\n",
      "\u001b[1m4/4\u001b[0m \u001b[32m━━━━━━━━━━━━━━━━━━━━\u001b[0m\u001b[37m\u001b[0m \u001b[1m0s\u001b[0m 4ms/step - loss: 16.6521  \n",
      "Epoch 35/75\n",
      "\u001b[1m4/4\u001b[0m \u001b[32m━━━━━━━━━━━━━━━━━━━━\u001b[0m\u001b[37m\u001b[0m \u001b[1m0s\u001b[0m 4ms/step - loss: 14.5064  \n",
      "Epoch 36/75\n",
      "\u001b[1m4/4\u001b[0m \u001b[32m━━━━━━━━━━━━━━━━━━━━\u001b[0m\u001b[37m\u001b[0m \u001b[1m0s\u001b[0m 4ms/step - loss: 12.0643  \n",
      "Epoch 37/75\n",
      "\u001b[1m4/4\u001b[0m \u001b[32m━━━━━━━━━━━━━━━━━━━━\u001b[0m\u001b[37m\u001b[0m \u001b[1m0s\u001b[0m 3ms/step - loss: 11.1031  \n",
      "Epoch 38/75\n",
      "\u001b[1m4/4\u001b[0m \u001b[32m━━━━━━━━━━━━━━━━━━━━\u001b[0m\u001b[37m\u001b[0m \u001b[1m0s\u001b[0m 4ms/step - loss: 7.8662  \n",
      "Epoch 39/75\n",
      "\u001b[1m4/4\u001b[0m \u001b[32m━━━━━━━━━━━━━━━━━━━━\u001b[0m\u001b[37m\u001b[0m \u001b[1m0s\u001b[0m 4ms/step - loss: 8.9071  \n",
      "Epoch 40/75\n",
      "\u001b[1m4/4\u001b[0m \u001b[32m━━━━━━━━━━━━━━━━━━━━\u001b[0m\u001b[37m\u001b[0m \u001b[1m0s\u001b[0m 3ms/step - loss: 12.2171  \n",
      "Epoch 41/75\n",
      "\u001b[1m4/4\u001b[0m \u001b[32m━━━━━━━━━━━━━━━━━━━━\u001b[0m\u001b[37m\u001b[0m \u001b[1m0s\u001b[0m 4ms/step - loss: 9.6748   \n",
      "Epoch 42/75\n",
      "\u001b[1m4/4\u001b[0m \u001b[32m━━━━━━━━━━━━━━━━━━━━\u001b[0m\u001b[37m\u001b[0m \u001b[1m0s\u001b[0m 5ms/step - loss: 8.7813   \n",
      "Epoch 43/75\n",
      "\u001b[1m4/4\u001b[0m \u001b[32m━━━━━━━━━━━━━━━━━━━━\u001b[0m\u001b[37m\u001b[0m \u001b[1m0s\u001b[0m 5ms/step - loss: 6.7166 \n",
      "Epoch 44/75\n",
      "\u001b[1m4/4\u001b[0m \u001b[32m━━━━━━━━━━━━━━━━━━━━\u001b[0m\u001b[37m\u001b[0m \u001b[1m0s\u001b[0m 4ms/step - loss: 5.2424  \n",
      "Epoch 45/75\n",
      "\u001b[1m4/4\u001b[0m \u001b[32m━━━━━━━━━━━━━━━━━━━━\u001b[0m\u001b[37m\u001b[0m \u001b[1m0s\u001b[0m 7ms/step - loss: 6.4556 \n",
      "Epoch 46/75\n",
      "\u001b[1m4/4\u001b[0m \u001b[32m━━━━━━━━━━━━━━━━━━━━\u001b[0m\u001b[37m\u001b[0m \u001b[1m0s\u001b[0m 5ms/step - loss: 5.0102  \n",
      "Epoch 47/75\n",
      "\u001b[1m4/4\u001b[0m \u001b[32m━━━━━━━━━━━━━━━━━━━━\u001b[0m\u001b[37m\u001b[0m \u001b[1m0s\u001b[0m 333us/step - loss: 8.5413 \n",
      "Epoch 48/75\n",
      "\u001b[1m4/4\u001b[0m \u001b[32m━━━━━━━━━━━━━━━━━━━━\u001b[0m\u001b[37m\u001b[0m \u001b[1m0s\u001b[0m 4ms/step - loss: 4.5266  \n",
      "Epoch 49/75\n",
      "\u001b[1m4/4\u001b[0m \u001b[32m━━━━━━━━━━━━━━━━━━━━\u001b[0m\u001b[37m\u001b[0m \u001b[1m0s\u001b[0m 5ms/step - loss: 8.7656   \n",
      "Epoch 50/75\n",
      "\u001b[1m4/4\u001b[0m \u001b[32m━━━━━━━━━━━━━━━━━━━━\u001b[0m\u001b[37m\u001b[0m \u001b[1m0s\u001b[0m 4ms/step - loss: 4.6138  \n",
      "Epoch 51/75\n",
      "\u001b[1m4/4\u001b[0m \u001b[32m━━━━━━━━━━━━━━━━━━━━\u001b[0m\u001b[37m\u001b[0m \u001b[1m0s\u001b[0m 4ms/step - loss: 4.3416  \n",
      "Epoch 52/75\n",
      "\u001b[1m4/4\u001b[0m \u001b[32m━━━━━━━━━━━━━━━━━━━━\u001b[0m\u001b[37m\u001b[0m \u001b[1m0s\u001b[0m 3ms/step - loss: 3.4993  \n",
      "Epoch 53/75\n",
      "\u001b[1m4/4\u001b[0m \u001b[32m━━━━━━━━━━━━━━━━━━━━\u001b[0m\u001b[37m\u001b[0m \u001b[1m0s\u001b[0m 0s/step - loss: 3.8778   \n",
      "Epoch 54/75\n",
      "\u001b[1m4/4\u001b[0m \u001b[32m━━━━━━━━━━━━━━━━━━━━\u001b[0m\u001b[37m\u001b[0m \u001b[1m0s\u001b[0m 4ms/step - loss: 6.7741   \n",
      "Epoch 55/75\n",
      "\u001b[1m4/4\u001b[0m \u001b[32m━━━━━━━━━━━━━━━━━━━━\u001b[0m\u001b[37m\u001b[0m \u001b[1m0s\u001b[0m 4ms/step - loss: 2.8279  \n",
      "Epoch 56/75\n",
      "\u001b[1m4/4\u001b[0m \u001b[32m━━━━━━━━━━━━━━━━━━━━\u001b[0m\u001b[37m\u001b[0m \u001b[1m0s\u001b[0m 8ms/step - loss: 5.3119 \n",
      "Epoch 57/75\n",
      "\u001b[1m4/4\u001b[0m \u001b[32m━━━━━━━━━━━━━━━━━━━━\u001b[0m\u001b[37m\u001b[0m \u001b[1m0s\u001b[0m 11ms/step - loss: 5.4904 \n",
      "Epoch 58/75\n",
      "\u001b[1m4/4\u001b[0m \u001b[32m━━━━━━━━━━━━━━━━━━━━\u001b[0m\u001b[37m\u001b[0m \u001b[1m0s\u001b[0m 9ms/step - loss: 5.1816  \n",
      "Epoch 59/75\n",
      "\u001b[1m4/4\u001b[0m \u001b[32m━━━━━━━━━━━━━━━━━━━━\u001b[0m\u001b[37m\u001b[0m \u001b[1m0s\u001b[0m 4ms/step - loss: 2.1476  \n",
      "Epoch 60/75\n",
      "\u001b[1m4/4\u001b[0m \u001b[32m━━━━━━━━━━━━━━━━━━━━\u001b[0m\u001b[37m\u001b[0m \u001b[1m0s\u001b[0m 3ms/step - loss: 4.2651  \n",
      "Epoch 61/75\n",
      "\u001b[1m4/4\u001b[0m \u001b[32m━━━━━━━━━━━━━━━━━━━━\u001b[0m\u001b[37m\u001b[0m \u001b[1m0s\u001b[0m 3ms/step - loss: 2.6833 \n",
      "Epoch 62/75\n",
      "\u001b[1m4/4\u001b[0m \u001b[32m━━━━━━━━━━━━━━━━━━━━\u001b[0m\u001b[37m\u001b[0m \u001b[1m0s\u001b[0m 4ms/step - loss: 4.1581 \n",
      "Epoch 63/75\n",
      "\u001b[1m4/4\u001b[0m \u001b[32m━━━━━━━━━━━━━━━━━━━━\u001b[0m\u001b[37m\u001b[0m \u001b[1m0s\u001b[0m 4ms/step - loss: 3.6989  \n",
      "Epoch 64/75\n",
      "\u001b[1m4/4\u001b[0m \u001b[32m━━━━━━━━━━━━━━━━━━━━\u001b[0m\u001b[37m\u001b[0m \u001b[1m0s\u001b[0m 6ms/step - loss: 3.2577  \n",
      "Epoch 65/75\n",
      "\u001b[1m4/4\u001b[0m \u001b[32m━━━━━━━━━━━━━━━━━━━━\u001b[0m\u001b[37m\u001b[0m \u001b[1m0s\u001b[0m 6ms/step - loss: 2.0338  \n",
      "Epoch 66/75\n",
      "\u001b[1m4/4\u001b[0m \u001b[32m━━━━━━━━━━━━━━━━━━━━\u001b[0m\u001b[37m\u001b[0m \u001b[1m0s\u001b[0m 5ms/step - loss: 1.9466  \n",
      "Epoch 67/75\n",
      "\u001b[1m4/4\u001b[0m \u001b[32m━━━━━━━━━━━━━━━━━━━━\u001b[0m\u001b[37m\u001b[0m \u001b[1m0s\u001b[0m 4ms/step - loss: 3.3866  \n",
      "Epoch 68/75\n",
      "\u001b[1m4/4\u001b[0m \u001b[32m━━━━━━━━━━━━━━━━━━━━\u001b[0m\u001b[37m\u001b[0m \u001b[1m0s\u001b[0m 5ms/step - loss: 2.9846  \n",
      "Epoch 69/75\n",
      "\u001b[1m4/4\u001b[0m \u001b[32m━━━━━━━━━━━━━━━━━━━━\u001b[0m\u001b[37m\u001b[0m \u001b[1m0s\u001b[0m 5ms/step - loss: 2.8271  \n",
      "Epoch 70/75\n",
      "\u001b[1m4/4\u001b[0m \u001b[32m━━━━━━━━━━━━━━━━━━━━\u001b[0m\u001b[37m\u001b[0m \u001b[1m0s\u001b[0m 5ms/step - loss: 2.8748 \n",
      "Epoch 71/75\n",
      "\u001b[1m4/4\u001b[0m \u001b[32m━━━━━━━━━━━━━━━━━━━━\u001b[0m\u001b[37m\u001b[0m \u001b[1m0s\u001b[0m 6ms/step - loss: 1.5434 \n",
      "Epoch 72/75\n",
      "\u001b[1m4/4\u001b[0m \u001b[32m━━━━━━━━━━━━━━━━━━━━\u001b[0m\u001b[37m\u001b[0m \u001b[1m0s\u001b[0m 6ms/step - loss: 1.4754  \n",
      "Epoch 73/75\n",
      "\u001b[1m4/4\u001b[0m \u001b[32m━━━━━━━━━━━━━━━━━━━━\u001b[0m\u001b[37m\u001b[0m \u001b[1m0s\u001b[0m 2ms/step - loss: 1.4122  \n",
      "Epoch 74/75\n",
      "\u001b[1m4/4\u001b[0m \u001b[32m━━━━━━━━━━━━━━━━━━━━\u001b[0m\u001b[37m\u001b[0m \u001b[1m0s\u001b[0m 4ms/step - loss: 2.2288  \n",
      "Epoch 75/75\n",
      "\u001b[1m4/4\u001b[0m \u001b[32m━━━━━━━━━━━━━━━━━━━━\u001b[0m\u001b[37m\u001b[0m \u001b[1m0s\u001b[0m 5ms/step - loss: 0.9689  \n"
     ]
    },
    {
     "data": {
      "text/plain": [
       "<keras.src.callbacks.history.History at 0x2c2bc326ea0>"
      ]
     },
     "execution_count": 12,
     "metadata": {},
     "output_type": "execute_result"
    }
   ],
   "source": [
    "model.fit(df.iloc[:,0:-1].values,df['lpa'].values,epochs=75,verbose=1,batch_size=1)"
   ]
  },
  {
   "cell_type": "code",
   "execution_count": 13,
   "id": "1455cdff-2e77-42f3-a370-8ae4d7ee6acc",
   "metadata": {},
   "outputs": [
    {
     "data": {
      "text/plain": [
       "[array([[0.3736383 , 0.3736383 ],\n",
       "        [0.36543885, 0.36543885]], dtype=float32),\n",
       " array([0.2722255, 0.2722255], dtype=float32),\n",
       " array([[0.37282798],\n",
       "        [0.37282798]], dtype=float32),\n",
       " array([0.20455806], dtype=float32)]"
      ]
     },
     "execution_count": 13,
     "metadata": {},
     "output_type": "execute_result"
    }
   ],
   "source": [
    "model.get_weights()"
   ]
  },
  {
   "cell_type": "markdown",
   "id": "e0fd3aca-bf81-4148-9ab1-c0ba19047558",
   "metadata": {},
   "source": [
    "# CLASSIFICATION"
   ]
  },
  {
   "cell_type": "code",
   "execution_count": 15,
   "id": "632c56cd-bf5a-40c5-a703-f167eebd79cf",
   "metadata": {},
   "outputs": [
    {
     "data": {
      "text/html": [
       "<div>\n",
       "<style scoped>\n",
       "    .dataframe tbody tr th:only-of-type {\n",
       "        vertical-align: middle;\n",
       "    }\n",
       "\n",
       "    .dataframe tbody tr th {\n",
       "        vertical-align: top;\n",
       "    }\n",
       "\n",
       "    .dataframe thead th {\n",
       "        text-align: right;\n",
       "    }\n",
       "</style>\n",
       "<table border=\"1\" class=\"dataframe\">\n",
       "  <thead>\n",
       "    <tr style=\"text-align: right;\">\n",
       "      <th></th>\n",
       "      <th>cgpa</th>\n",
       "      <th>profile_score</th>\n",
       "      <th>placed</th>\n",
       "    </tr>\n",
       "  </thead>\n",
       "  <tbody>\n",
       "    <tr>\n",
       "      <th>0</th>\n",
       "      <td>8</td>\n",
       "      <td>8</td>\n",
       "      <td>1</td>\n",
       "    </tr>\n",
       "    <tr>\n",
       "      <th>1</th>\n",
       "      <td>7</td>\n",
       "      <td>9</td>\n",
       "      <td>1</td>\n",
       "    </tr>\n",
       "    <tr>\n",
       "      <th>2</th>\n",
       "      <td>6</td>\n",
       "      <td>10</td>\n",
       "      <td>0</td>\n",
       "    </tr>\n",
       "    <tr>\n",
       "      <th>3</th>\n",
       "      <td>5</td>\n",
       "      <td>12</td>\n",
       "      <td>0</td>\n",
       "    </tr>\n",
       "  </tbody>\n",
       "</table>\n",
       "</div>"
      ],
      "text/plain": [
       "   cgpa  profile_score  placed\n",
       "0     8              8       1\n",
       "1     7              9       1\n",
       "2     6             10       0\n",
       "3     5             12       0"
      ]
     },
     "execution_count": 15,
     "metadata": {},
     "output_type": "execute_result"
    }
   ],
   "source": [
    "df = pd.DataFrame([[8,8,1],[7,9,1],[6,10,0],[5,12,0]],columns=['cgpa','profile_score','placed'])\n",
    "df"
   ]
  },
  {
   "cell_type": "code",
   "execution_count": 16,
   "id": "329b13dc-1baf-47e1-9aa6-3e2a1e679d87",
   "metadata": {},
   "outputs": [],
   "source": [
    "def initialize_parameters(layer_dims):\n",
    "  \n",
    "  np.random.seed(3)\n",
    "  parameters = {}\n",
    "  L = len(layer_dims)         \n",
    "\n",
    "  for l in range(1, L):\n",
    "\n",
    "    parameters['W' + str(l)] = np.ones((layer_dims[l-1], layer_dims[l]))*0.1\n",
    "    parameters['b' + str(l)] = np.zeros((layer_dims[l], 1))\n",
    "      \n",
    "  return parameters"
   ]
  },
  {
   "cell_type": "code",
   "execution_count": 17,
   "id": "f47bd625-e0f0-4f6b-b94c-04bfdaec44e6",
   "metadata": {},
   "outputs": [],
   "source": [
    "def sigmoid(Z):\n",
    "    A = 1/(1+np.exp(-Z))\n",
    "    return A"
   ]
  },
  {
   "cell_type": "code",
   "execution_count": 18,
   "id": "eb192c57-8a76-4a7a-aa74-7dfb444836f2",
   "metadata": {},
   "outputs": [],
   "source": [
    "def linear_forward(A_prev, W, b):\n",
    "\n",
    "    Z = np.dot(W.T, A_prev) + b\n",
    "    A = sigmoid(Z)\n",
    "    return A"
   ]
  },
  {
   "cell_type": "code",
   "execution_count": 19,
   "id": "e52863c3-850f-42d3-b1dc-bbc70eeef478",
   "metadata": {},
   "outputs": [],
   "source": [
    "# Forward Propagation\n",
    "\n",
    "def L_layer_forward(X, parameters):\n",
    "\n",
    "  A = X\n",
    "  L = len(parameters) // 2          \n",
    "  \n",
    "  for l in range(1, L+1):\n",
    "    A_prev = A \n",
    "    Wl = parameters['W' + str(l)]\n",
    "    bl = parameters['b' + str(l)]\n",
    "    print(\"A\"+str(l-1)+\": \", A_prev)\n",
    "    print(\"W\"+str(l)+\": \", Wl)\n",
    "    print(\"b\"+str(l)+\": \", bl)\n",
    "    print(\"--\"*20)\n",
    "\n",
    "    A = linear_forward(A_prev, Wl, bl)\n",
    "    print(\"A\"+str(l)+\": \", A)\n",
    "    print(\"**\"*20)\n",
    "          \n",
    "  return A,A_prev"
   ]
  },
  {
   "cell_type": "code",
   "execution_count": 20,
   "id": "4cf8f589-f418-42cc-b384-9d5304f5d909",
   "metadata": {},
   "outputs": [],
   "source": [
    "def update_parameters(parameters,y,y_hat,A1,X):\n",
    "  parameters['W2'][0][0] = parameters['W2'][0][0] + (0.0001 * (y - y_hat)*A1[0][0])\n",
    "  parameters['W2'][1][0] = parameters['W2'][1][0] + (0.0001 * (y - y_hat)*A1[1][0])\n",
    "  parameters['b2'][0][0] = parameters['W2'][1][0] + (0.0001 * (y - y_hat))\n",
    "\n",
    "  parameters['W1'][0][0] = parameters['W1'][0][0] + (0.0001 * (y - y_hat)*parameters['W2'][0][0]*A1[0][0]*(1-A1[0][0])*X[0][0])\n",
    "  parameters['W1'][0][1] = parameters['W1'][0][1] + (0.0001 * (y - y_hat)*parameters['W2'][0][0]*A1[0][0]*(1-A1[0][0])*X[1][0])\n",
    "  parameters['b1'][0][0] = parameters['b1'][0][0] + (0.0001 * (y - y_hat)*parameters['W2'][0][0]*A1[0][0]*(1-A1[0][0]))\n",
    "\n",
    "  parameters['W1'][1][0] = parameters['W1'][1][0] + (0.0001 * (y - y_hat)*parameters['W2'][1][0]*A1[1][0]*(1-A1[1][0])*X[0][0])\n",
    "  parameters['W1'][1][1] = parameters['W1'][1][1] + (0.0001 * (y - y_hat)*parameters['W2'][1][0]*A1[1][0]*(1-A1[1][0])*X[1][0])\n",
    "  parameters['b1'][1][0] = parameters['b1'][1][0] + (0.0001 * (y - y_hat)*parameters['W2'][1][0]*A1[1][0]*(1-A1[1][0]))"
   ]
  },
  {
   "cell_type": "code",
   "execution_count": 22,
   "id": "432f3aa5-08a3-4f38-9ae6-7030143b7d74",
   "metadata": {},
   "outputs": [
    {
     "name": "stdout",
     "output_type": "stream",
     "text": [
      "A0:  [[8]\n",
      " [8]]\n",
      "W1:  [[0.1 0.1]\n",
      " [0.1 0.1]]\n",
      "b1:  [[0.]\n",
      " [0.]]\n",
      "----------------------------------------\n",
      "A1:  [[0.83201839]\n",
      " [0.83201839]]\n",
      "****************************************\n",
      "A1:  [[0.83201839]\n",
      " [0.83201839]]\n",
      "W2:  [[0.1]\n",
      " [0.1]]\n",
      "b2:  [[0.]]\n",
      "----------------------------------------\n",
      "A2:  [[0.54150519]]\n",
      "****************************************\n"
     ]
    }
   ],
   "source": [
    "X = df[['cgpa', 'profile_score']].values[0].reshape(2,1) # Shape(no of features, no. of training exaplme)\n",
    "y = df[['placed']].values[0][0]\n",
    "\n",
    "parameters = initialize_parameters([2,2,1])\n",
    "y_hat,A1 = L_layer_forward(X,parameters)\n",
    "y_hat = y_hat[0][0]"
   ]
  },
  {
   "cell_type": "code",
   "execution_count": 23,
   "id": "508e469e-40fb-4257-8180-6c741885ca1d",
   "metadata": {},
   "outputs": [
    {
     "name": "stdout",
     "output_type": "stream",
     "text": [
      "Loss for this student -  0.613402628898913\n"
     ]
    },
    {
     "data": {
      "text/plain": [
       "{'W1': array([[0.10000513, 0.10000513],\n",
       "        [0.10000513, 0.10000513]]),\n",
       " 'b1': array([[6.41054186e-07],\n",
       "        [6.41054186e-07]]),\n",
       " 'W2': array([[0.10003815],\n",
       "        [0.10003815]]),\n",
       " 'b2': array([[0.100084]])}"
      ]
     },
     "execution_count": 23,
     "metadata": {},
     "output_type": "execute_result"
    }
   ],
   "source": [
    "update_parameters(parameters,y,y_hat,A1,X)\n",
    "print('Loss for this student - ',-y*np.log(y_hat) - (1-y)*np.log(1-y_hat))\n",
    "parameters"
   ]
  },
  {
   "cell_type": "code",
   "execution_count": 24,
   "id": "4e99b660-6fc5-4c92-b3e5-5f32397d83e8",
   "metadata": {},
   "outputs": [
    {
     "name": "stdout",
     "output_type": "stream",
     "text": [
      "A0:  [[7]\n",
      " [9]]\n",
      "W1:  [[0.10000513 0.10000513]\n",
      " [0.10000513 0.10000513]]\n",
      "b1:  [[6.41054186e-07]\n",
      " [6.41054186e-07]]\n",
      "----------------------------------------\n",
      "A1:  [[0.83202994]\n",
      " [0.83202994]]\n",
      "****************************************\n",
      "A1:  [[0.83202994]\n",
      " [0.83202994]]\n",
      "W2:  [[0.10003815]\n",
      " [0.10003815]]\n",
      "b2:  [[0.100084]]\n",
      "----------------------------------------\n",
      "A2:  [[0.56624659]]\n",
      "****************************************\n"
     ]
    }
   ],
   "source": [
    "X = df[['cgpa', 'profile_score']].values[1].reshape(2,1) # Shape(no of features, no. of training exaplme)\n",
    "y = df[['placed']].values[1][0]\n",
    "\n",
    "y_hat,A1 = L_layer_forward(X,parameters)\n",
    "y_hat = y_hat[0][0]"
   ]
  },
  {
   "cell_type": "code",
   "execution_count": 25,
   "id": "329107fb-5b6a-44f8-9bc1-5cc0c825fe52",
   "metadata": {},
   "outputs": [
    {
     "name": "stdout",
     "output_type": "stream",
     "text": [
      "Loss for this student -  0.568725622654268\n"
     ]
    },
    {
     "data": {
      "text/plain": [
       "{'W1': array([[0.10000937, 0.10001059],\n",
       "        [0.10000937, 0.10001059]]),\n",
       " 'b1': array([[1.24770113e-06],\n",
       "        [1.24770113e-06]]),\n",
       " 'W2': array([[0.10007424],\n",
       "        [0.10007424]]),\n",
       " 'b2': array([[0.10011761]])}"
      ]
     },
     "execution_count": 25,
     "metadata": {},
     "output_type": "execute_result"
    }
   ],
   "source": [
    "update_parameters(parameters,y,y_hat,A1,X)\n",
    "print('Loss for this student - ',-y*np.log(y_hat) - (1-y)*np.log(1-y_hat))\n",
    "parameters"
   ]
  },
  {
   "cell_type": "code",
   "execution_count": 26,
   "id": "568ae8e4-a16b-4743-bda9-ee947373ead9",
   "metadata": {},
   "outputs": [
    {
     "name": "stdout",
     "output_type": "stream",
     "text": [
      "A0:  [[ 6]\n",
      " [10]]\n",
      "W1:  [[0.10000937 0.10001059]\n",
      " [0.10000937 0.10001059]]\n",
      "b1:  [[1.24770113e-06]\n",
      " [1.24770113e-06]]\n",
      "----------------------------------------\n",
      "A1:  [[0.83203952]\n",
      " [0.83204224]]\n",
      "****************************************\n",
      "A1:  [[0.83203952]\n",
      " [0.83204224]]\n",
      "W2:  [[0.10007424]\n",
      " [0.10007424]]\n",
      "b2:  [[0.10011761]]\n",
      "----------------------------------------\n",
      "A2:  [[0.56627013]]\n",
      "****************************************\n"
     ]
    }
   ],
   "source": [
    "X = df[['cgpa', 'profile_score']].values[2].reshape(2,1) # Shape(no of features, no. of training exaplme)\n",
    "y = df[['placed']].values[2][0]\n",
    "\n",
    "y_hat,A1 = L_layer_forward(X,parameters)\n",
    "y_hat = y_hat[0][0]"
   ]
  },
  {
   "cell_type": "code",
   "execution_count": 27,
   "id": "5d715a2e-301f-4493-8f3c-47c086037566",
   "metadata": {},
   "outputs": [
    {
     "name": "stdout",
     "output_type": "stream",
     "text": [
      "Loss for this student -  0.8353333695154365\n"
     ]
    },
    {
     "data": {
      "text/plain": [
       "{'W1': array([[0.10000463, 0.10000267],\n",
       "        [0.10000463, 0.10000267]]),\n",
       " 'b1': array([[4.56125378e-07],\n",
       "        [4.56135584e-07]]),\n",
       " 'W2': array([[0.10002712],\n",
       "        [0.10002712]]),\n",
       " 'b2': array([[0.09997049]])}"
      ]
     },
     "execution_count": 27,
     "metadata": {},
     "output_type": "execute_result"
    }
   ],
   "source": [
    "update_parameters(parameters,y,y_hat,A1,X)\n",
    "print('Loss for this student - ',-y*np.log(y_hat) - (1-y)*np.log(1-y_hat))\n",
    "parameters"
   ]
  },
  {
   "cell_type": "code",
   "execution_count": 28,
   "id": "00b7f363-3f8e-43cd-8b7c-38eeeb9872bb",
   "metadata": {},
   "outputs": [
    {
     "name": "stdout",
     "output_type": "stream",
     "text": [
      "A0:  [[ 5]\n",
      " [12]]\n",
      "W1:  [[0.10000463 0.10000267]\n",
      " [0.10000463 0.10000267]]\n",
      "b1:  [[4.56125378e-07]\n",
      " [4.56135584e-07]]\n",
      "----------------------------------------\n",
      "A1:  [[0.84554506]\n",
      " [0.84554073]]\n",
      "****************************************\n",
      "A1:  [[0.84554506]\n",
      " [0.84554073]]\n",
      "W2:  [[0.10002712]\n",
      " [0.10002712]]\n",
      "b2:  [[0.09997049]]\n",
      "----------------------------------------\n",
      "A2:  [[0.56687807]]\n",
      "****************************************\n"
     ]
    }
   ],
   "source": [
    "X = df[['cgpa', 'profile_score']].values[3].reshape(2,1) # Shape(no of features, no. of training exaplme)\n",
    "y = df[['placed']].values[3][0]\n",
    "\n",
    "y_hat,A1 = L_layer_forward(X,parameters)\n",
    "y_hat = y_hat[0][0]"
   ]
  },
  {
   "cell_type": "code",
   "execution_count": 29,
   "id": "24e489e3-a088-4cf2-a240-35946e5cbc9a",
   "metadata": {},
   "outputs": [
    {
     "name": "stdout",
     "output_type": "stream",
     "text": [
      "Loss for this student -  0.8367359874723076\n"
     ]
    },
    {
     "data": {
      "text/plain": [
       "{'W1': array([[0.10000092, 0.09999379],\n",
       "        [0.10000092, 0.09999379]]),\n",
       " 'b1': array([[-2.84055419e-07],\n",
       "        [-2.84062197e-07]]),\n",
       " 'W2': array([[0.09997919],\n",
       "        [0.09997919]]),\n",
       " 'b2': array([[0.0999225]])}"
      ]
     },
     "execution_count": 29,
     "metadata": {},
     "output_type": "execute_result"
    }
   ],
   "source": [
    "update_parameters(parameters,y,y_hat,A1,X)\n",
    "print('Loss for this student - ',-y*np.log(y_hat) - (1-y)*np.log(1-y_hat))\n",
    "parameters"
   ]
  },
  {
   "cell_type": "code",
   "execution_count": 30,
   "id": "92305460-0caa-450f-b9ba-77a8e3f01989",
   "metadata": {},
   "outputs": [
    {
     "name": "stdout",
     "output_type": "stream",
     "text": [
      "A0:  [[8]\n",
      " [8]]\n",
      "W1:  [[0.1 0.1]\n",
      " [0.1 0.1]]\n",
      "b1:  [[0.]\n",
      " [0.]]\n",
      "----------------------------------------\n",
      "A1:  [[0.83201839]\n",
      " [0.83201839]]\n",
      "****************************************\n",
      "A1:  [[0.83201839]\n",
      " [0.83201839]]\n",
      "W2:  [[0.1]\n",
      " [0.1]]\n",
      "b2:  [[0.]]\n",
      "----------------------------------------\n",
      "A2:  [[0.54150519]]\n",
      "****************************************\n",
      "A0:  [[7]\n",
      " [9]]\n",
      "W1:  [[0.10000513 0.10000513]\n",
      " [0.10000513 0.10000513]]\n",
      "b1:  [[6.41054186e-07]\n",
      " [6.41054186e-07]]\n",
      "----------------------------------------\n",
      "A1:  [[0.83202994]\n",
      " [0.83202994]]\n",
      "****************************************\n",
      "A1:  [[0.83202994]\n",
      " [0.83202994]]\n",
      "W2:  [[0.10003815]\n",
      " [0.10003815]]\n",
      "b2:  [[0.100084]]\n",
      "----------------------------------------\n",
      "A2:  [[0.56624659]]\n",
      "****************************************\n",
      "A0:  [[ 6]\n",
      " [10]]\n",
      "W1:  [[0.10000937 0.10001059]\n",
      " [0.10000937 0.10001059]]\n",
      "b1:  [[1.24770113e-06]\n",
      " [1.24770113e-06]]\n",
      "----------------------------------------\n",
      "A1:  [[0.83203952]\n",
      " [0.83204224]]\n",
      "****************************************\n",
      "A1:  [[0.83203952]\n",
      " [0.83204224]]\n",
      "W2:  [[0.10007424]\n",
      " [0.10007424]]\n",
      "b2:  [[0.10011761]]\n",
      "----------------------------------------\n",
      "A2:  [[0.56627013]]\n",
      "****************************************\n",
      "A0:  [[ 5]\n",
      " [12]]\n",
      "W1:  [[0.10000463 0.10000267]\n",
      " [0.10000463 0.10000267]]\n",
      "b1:  [[4.56125378e-07]\n",
      " [4.56135584e-07]]\n",
      "----------------------------------------\n",
      "A1:  [[0.84554506]\n",
      " [0.84554073]]\n",
      "****************************************\n",
      "A1:  [[0.84554506]\n",
      " [0.84554073]]\n",
      "W2:  [[0.10002712]\n",
      " [0.10002712]]\n",
      "b2:  [[0.09997049]]\n",
      "----------------------------------------\n",
      "A2:  [[0.56687807]]\n",
      "****************************************\n",
      "Epoch -  1 Loss -  0.7135494021352312\n",
      "A0:  [[8]\n",
      " [8]]\n",
      "W1:  [[0.10000092 0.09999379]\n",
      " [0.10000092 0.09999379]]\n",
      "b1:  [[-2.84055419e-07]\n",
      " [-2.84062197e-07]]\n",
      "----------------------------------------\n",
      "A1:  [[0.83202041]\n",
      " [0.83200446]]\n",
      "****************************************\n",
      "A1:  [[0.83202041]\n",
      " [0.83200446]]\n",
      "W2:  [[0.09997919]\n",
      " [0.09997919]]\n",
      "b2:  [[0.0999225]]\n",
      "----------------------------------------\n",
      "A2:  [[0.56618197]]\n",
      "****************************************\n",
      "A0:  [[7]\n",
      " [9]]\n",
      "W1:  [[0.10000578 0.09999864]\n",
      " [0.10000578 0.09999864]]\n",
      "b1:  [[3.22351939e-07]\n",
      " [3.22391123e-07]]\n",
      "----------------------------------------\n",
      "A1:  [[0.83203135]\n",
      " [0.83201539]]\n",
      "****************************************\n",
      "A1:  [[0.83203135]\n",
      " [0.83201539]]\n",
      "W2:  [[0.10001528]\n",
      " [0.10001528]]\n",
      "b2:  [[0.10005866]]\n",
      "----------------------------------------\n",
      "A2:  [[0.5662307]]\n",
      "****************************************\n",
      "A0:  [[ 6]\n",
      " [10]]\n",
      "W1:  [[0.10001002 0.1000041 ]\n",
      " [0.10001002 0.1000041 ]]\n",
      "b1:  [[9.28878467e-07]\n",
      " [9.28963620e-07]]\n",
      "----------------------------------------\n",
      "A1:  [[0.83204093]\n",
      " [0.83202768]]\n",
      "****************************************\n",
      "A1:  [[0.83204093]\n",
      " [0.83202768]]\n",
      "W2:  [[0.10005137]\n",
      " [0.10005137]]\n",
      "b2:  [[0.10009475]]\n",
      "----------------------------------------\n",
      "A2:  [[0.56625485]]\n",
      "****************************************\n",
      "A0:  [[ 5]\n",
      " [12]]\n",
      "W1:  [[0.10000527 0.09999619]\n",
      " [0.10000527 0.09999619]]\n",
      "b1:  [[1.37510259e-07]\n",
      " [1.37545627e-07]]\n",
      "----------------------------------------\n",
      "A1:  [[0.84554646]\n",
      " [0.84552629]]\n",
      "****************************************\n",
      "A1:  [[0.84554646]\n",
      " [0.84552629]]\n",
      "W2:  [[0.10000426]\n",
      " [0.10000426]]\n",
      "b2:  [[0.09994763]]\n",
      "----------------------------------------\n",
      "A2:  [[0.56686264]]\n",
      "****************************************\n",
      "Epoch -  2 Loss -  0.7023979867791279\n",
      "A0:  [[8]\n",
      " [8]]\n",
      "W1:  [[0.10000157 0.09998731]\n",
      " [0.10000157 0.09998731]]\n",
      "b1:  [[-6.02475689e-07]\n",
      " [-6.02519326e-07]]\n",
      "----------------------------------------\n",
      "A1:  [[0.83202182]\n",
      " [0.83198991]]\n",
      "****************************************\n",
      "A1:  [[0.83202182]\n",
      " [0.83198991]]\n",
      "W2:  [[0.09995633]\n",
      " [0.09995633]]\n",
      "b2:  [[0.09989964]]\n",
      "----------------------------------------\n",
      "A2:  [[0.56616669]]\n",
      "****************************************\n",
      "A0:  [[7]\n",
      " [9]]\n",
      "W1:  [[0.10000642 0.09999216]\n",
      " [0.10000642 0.09999216]]\n",
      "b1:  [[3.81037602e-09]\n",
      " [3.85863897e-09]]\n",
      "----------------------------------------\n",
      "A1:  [[0.83203275]\n",
      " [0.83200085]]\n",
      "****************************************\n",
      "A1:  [[0.83203275]\n",
      " [0.83200085]]\n",
      "W2:  [[0.09999242]\n",
      " [0.09999242]]\n",
      "b2:  [[0.10003581]]\n",
      "----------------------------------------\n",
      "A2:  [[0.56621542]]\n",
      "****************************************\n",
      "A0:  [[ 6]\n",
      " [10]]\n",
      "W1:  [[0.10001067 0.09999761]\n",
      " [0.10001067 0.09999762]]\n",
      "b1:  [[6.10215651e-07]\n",
      " [6.10355827e-07]]\n",
      "----------------------------------------\n",
      "A1:  [[0.83204233]\n",
      " [0.83201314]]\n",
      "****************************************\n",
      "A1:  [[0.83204233]\n",
      " [0.83201314]]\n",
      "W2:  [[0.10002852]\n",
      " [0.10002852]]\n",
      "b2:  [[0.10007189]]\n",
      "----------------------------------------\n",
      "A2:  [[0.56623957]]\n",
      "****************************************\n",
      "A0:  [[ 5]\n",
      " [12]]\n",
      "W1:  [[0.10000592 0.0999897 ]\n",
      " [0.10000592 0.0999897 ]]\n",
      "b1:  [[-1.80945064e-07]\n",
      " [-1.80914624e-07]]\n",
      "----------------------------------------\n",
      "A1:  [[0.84554786]\n",
      " [0.84551185]]\n",
      "****************************************\n",
      "A1:  [[0.84554786]\n",
      " [0.84551185]]\n",
      "W2:  [[0.0999814]\n",
      " [0.0999814]]\n",
      "b2:  [[0.09992478]]\n",
      "----------------------------------------\n",
      "A2:  [[0.56684722]]\n",
      "****************************************\n",
      "Epoch -  3 Loss -  0.702393772800165\n",
      "A0:  [[8]\n",
      " [8]]\n",
      "W1:  [[0.10000222 0.09998083]\n",
      " [0.10000222 0.09998082]]\n",
      "b1:  [[-9.20736213e-07]\n",
      " [-9.20846760e-07]]\n",
      "----------------------------------------\n",
      "A1:  [[0.83202323]\n",
      " [0.83197537]]\n",
      "****************************************\n",
      "A1:  [[0.83202323]\n",
      " [0.83197537]]\n",
      "W2:  [[0.09993347]\n",
      " [0.09993348]]\n",
      "b2:  [[0.09987679]]\n",
      "----------------------------------------\n",
      "A2:  [[0.56615141]]\n",
      "****************************************\n",
      "A0:  [[7]\n",
      " [9]]\n",
      "W1:  [[0.10000707 0.09998567]\n",
      " [0.10000707 0.09998567]]\n",
      "b1:  [[-3.14571426e-07]\n",
      " [-3.14544161e-07]]\n",
      "----------------------------------------\n",
      "A1:  [[0.83203416]\n",
      " [0.8319863 ]]\n",
      "****************************************\n",
      "A1:  [[0.83203416]\n",
      " [0.8319863 ]]\n",
      "W2:  [[0.09996957]\n",
      " [0.09996957]]\n",
      "b2:  [[0.10001296]]\n",
      "----------------------------------------\n",
      "A2:  [[0.56620015]]\n",
      "****************************************\n",
      "A0:  [[ 6]\n",
      " [10]]\n",
      "W1:  [[0.10001132 0.09999113]\n",
      " [0.10001132 0.09999113]]\n",
      "b1:  [[2.91712612e-07]\n",
      " [2.91877710e-07]]\n",
      "----------------------------------------\n",
      "A1:  [[0.83204373]\n",
      " [0.83199859]]\n",
      "****************************************\n",
      "A1:  [[0.83204373]\n",
      " [0.83199859]]\n",
      "W2:  [[0.10000566]\n",
      " [0.10000566]]\n",
      "b2:  [[0.10004904]]\n",
      "----------------------------------------\n",
      "A2:  [[0.5662243]]\n",
      "****************************************\n",
      "A0:  [[ 5]\n",
      " [12]]\n",
      "W1:  [[0.10000657 0.09998322]\n",
      " [0.10000657 0.09998322]]\n",
      "b1:  [[-4.99240665e-07]\n",
      " [-4.99245216e-07]]\n",
      "----------------------------------------\n",
      "A1:  [[0.84554926]\n",
      " [0.84549741]]\n",
      "****************************************\n",
      "A1:  [[0.84554926]\n",
      " [0.84549741]]\n",
      "W2:  [[0.09995855]\n",
      " [0.09995855]]\n",
      "b2:  [[0.09990193]]\n",
      "----------------------------------------\n",
      "A2:  [[0.5668318]]\n",
      "****************************************\n",
      "Epoch -  4 Loss -  0.7023895608076378\n",
      "A0:  [[8]\n",
      " [8]]\n",
      "W1:  [[0.10000287 0.09997435]\n",
      " [0.10000287 0.09997434]]\n",
      "b1:  [[-1.23883707e-06]\n",
      " [-1.23904455e-06]]\n",
      "----------------------------------------\n",
      "A1:  [[0.83202463]\n",
      " [0.83196083]]\n",
      "****************************************\n",
      "A1:  [[0.83202463]\n",
      " [0.83196083]]\n",
      "W2:  [[0.09991062]\n",
      " [0.09991063]]\n",
      "b2:  [[0.09985394]]\n",
      "----------------------------------------\n",
      "A2:  [[0.56613614]]\n",
      "****************************************\n",
      "A0:  [[7]\n",
      " [9]]\n",
      "W1:  [[0.10000772 0.0999792 ]\n",
      " [0.10000772 0.09997919]]\n",
      "b1:  [[-6.32793543e-07]\n",
      " [-6.32817321e-07]]\n",
      "----------------------------------------\n",
      "A1:  [[0.83203556]\n",
      " [0.83197176]]\n",
      "****************************************\n",
      "A1:  [[0.83203556]\n",
      " [0.83197176]]\n",
      "W2:  [[0.09994672]\n",
      " [0.09994672]]\n",
      "b2:  [[0.09999011]]\n",
      "----------------------------------------\n",
      "A2:  [[0.56618487]]\n",
      "****************************************\n",
      "A0:  [[ 6]\n",
      " [10]]\n",
      "W1:  [[0.10001196 0.09998465]\n",
      " [0.10001197 0.09998465]]\n",
      "b1:  [[-2.66307276e-08]\n",
      " [-2.64707777e-08]]\n",
      "----------------------------------------\n",
      "A1:  [[0.83204514]\n",
      " [0.83198405]]\n",
      "****************************************\n",
      "A1:  [[0.83204514]\n",
      " [0.83198405]]\n",
      "W2:  [[0.09998282]\n",
      " [0.09998282]]\n",
      "b2:  [[0.1000262]]\n",
      "----------------------------------------\n",
      "A2:  [[0.56620903]]\n",
      "****************************************\n",
      "A0:  [[ 5]\n",
      " [12]]\n",
      "W1:  [[0.10000722 0.09997674]\n",
      " [0.10000722 0.09997674]]\n",
      "b1:  [[-8.17376620e-07]\n",
      " [-8.17446192e-07]]\n",
      "----------------------------------------\n",
      "A1:  [[0.84555066]\n",
      " [0.84548298]]\n",
      "****************************************\n",
      "A1:  [[0.84555066]\n",
      " [0.84548298]]\n",
      "W2:  [[0.09993571]\n",
      " [0.09993571]]\n",
      "b2:  [[0.09987909]]\n",
      "----------------------------------------\n",
      "A2:  [[0.56681639]]\n",
      "****************************************\n",
      "Epoch -  5 Loss -  0.7023853508005624\n"
     ]
    },
    {
     "data": {
      "text/plain": [
       "{'W1': array([[0.10000352, 0.09996787],\n",
       "        [0.10000352, 0.09996786]]),\n",
       " 'b1': array([[-1.55677833e-06],\n",
       "        [-1.55711273e-06]]),\n",
       " 'W2': array([[0.09988778],\n",
       "        [0.09988778]]),\n",
       " 'b2': array([[0.0998311]])}"
      ]
     },
     "execution_count": 30,
     "metadata": {},
     "output_type": "execute_result"
    }
   ],
   "source": [
    "parameters = initialize_parameters([2,2,1])\n",
    "epochs=5\n",
    "\n",
    "for i in range(epochs):\n",
    "\n",
    "    Loss = []\n",
    "\n",
    "    for j in range(df.shape[0]):\n",
    "        X = df[['cgpa','profile_score']].values[j].reshape(2,1)\n",
    "        y = df[['placed']].values[j][0]\n",
    "\n",
    "        y_hat,A1 = L_layer_forward(X,parameters)\n",
    "        y_hat = y_hat[0][0]\n",
    "\n",
    "        update_parameters(parameters,y,y_hat,A1,X)\n",
    "        Loss.append(-y*np.log(y_hat) - (1-y)*np.log(1-y_hat))\n",
    "\n",
    "    print('Epoch - ',i+1,'Loss - ',np.array(Loss).mean())\n",
    "\n",
    "parameters"
   ]
  },
  {
   "cell_type": "markdown",
   "id": "860cf341-ee07-49f7-b04e-fb06c5a87ca8",
   "metadata": {},
   "source": [
    "# using keras"
   ]
  },
  {
   "cell_type": "code",
   "execution_count": 31,
   "id": "aa87d9cb-9558-4209-ac8b-7146ca466ec3",
   "metadata": {},
   "outputs": [],
   "source": [
    "import tensorflow\n",
    "from tensorflow import keras\n",
    "from keras import Sequential\n",
    "from keras.layers import Dense\n",
    "from tensorflow.keras.optimizers import Adam"
   ]
  },
  {
   "cell_type": "code",
   "execution_count": 32,
   "id": "bfbed52f-7aa1-4ef3-930b-8c3173193166",
   "metadata": {},
   "outputs": [
    {
     "data": {
      "text/html": [
       "<div>\n",
       "<style scoped>\n",
       "    .dataframe tbody tr th:only-of-type {\n",
       "        vertical-align: middle;\n",
       "    }\n",
       "\n",
       "    .dataframe tbody tr th {\n",
       "        vertical-align: top;\n",
       "    }\n",
       "\n",
       "    .dataframe thead th {\n",
       "        text-align: right;\n",
       "    }\n",
       "</style>\n",
       "<table border=\"1\" class=\"dataframe\">\n",
       "  <thead>\n",
       "    <tr style=\"text-align: right;\">\n",
       "      <th></th>\n",
       "      <th>cgpa</th>\n",
       "      <th>profile_score</th>\n",
       "      <th>placed</th>\n",
       "    </tr>\n",
       "  </thead>\n",
       "  <tbody>\n",
       "    <tr>\n",
       "      <th>0</th>\n",
       "      <td>8</td>\n",
       "      <td>8</td>\n",
       "      <td>1</td>\n",
       "    </tr>\n",
       "    <tr>\n",
       "      <th>1</th>\n",
       "      <td>7</td>\n",
       "      <td>9</td>\n",
       "      <td>1</td>\n",
       "    </tr>\n",
       "    <tr>\n",
       "      <th>2</th>\n",
       "      <td>6</td>\n",
       "      <td>10</td>\n",
       "      <td>0</td>\n",
       "    </tr>\n",
       "    <tr>\n",
       "      <th>3</th>\n",
       "      <td>5</td>\n",
       "      <td>12</td>\n",
       "      <td>0</td>\n",
       "    </tr>\n",
       "  </tbody>\n",
       "</table>\n",
       "</div>"
      ],
      "text/plain": [
       "   cgpa  profile_score  placed\n",
       "0     8              8       1\n",
       "1     7              9       1\n",
       "2     6             10       0\n",
       "3     5             12       0"
      ]
     },
     "execution_count": 32,
     "metadata": {},
     "output_type": "execute_result"
    }
   ],
   "source": [
    "df = pd.DataFrame([[8,8,1],[7,9,1],[6,10,0],[5,12,0]],columns=['cgpa','profile_score','placed'])\n",
    "df"
   ]
  },
  {
   "cell_type": "code",
   "execution_count": 33,
   "id": "49e058db-bba7-4dbe-a235-62b298974563",
   "metadata": {},
   "outputs": [
    {
     "name": "stderr",
     "output_type": "stream",
     "text": [
      "C:\\Users\\ADMIN\\AppData\\Local\\Programs\\Python\\Python312\\Lib\\site-packages\\keras\\src\\layers\\core\\dense.py:88: UserWarning: Do not pass an `input_shape`/`input_dim` argument to a layer. When using Sequential models, prefer using an `Input(shape)` object as the first layer in the model instead.\n",
      "  super().__init__(activity_regularizer=activity_regularizer, **kwargs)\n"
     ]
    }
   ],
   "source": [
    "model = Sequential()\n",
    "model.add(Dense(2,activation='sigmoid',input_dim=2))\n",
    "model.add(Dense(1,activation='sigmoid'))"
   ]
  },
  {
   "cell_type": "code",
   "execution_count": 34,
   "id": "001df88c-bf7e-464d-9da4-11a009e0c2ca",
   "metadata": {},
   "outputs": [
    {
     "data": {
      "text/html": [
       "<pre style=\"white-space:pre;overflow-x:auto;line-height:normal;font-family:Menlo,'DejaVu Sans Mono',consolas,'Courier New',monospace\"><span style=\"font-weight: bold\">Model: \"sequential_1\"</span>\n",
       "</pre>\n"
      ],
      "text/plain": [
       "\u001b[1mModel: \"sequential_1\"\u001b[0m\n"
      ]
     },
     "metadata": {},
     "output_type": "display_data"
    },
    {
     "data": {
      "text/html": [
       "<pre style=\"white-space:pre;overflow-x:auto;line-height:normal;font-family:Menlo,'DejaVu Sans Mono',consolas,'Courier New',monospace\">┏━━━━━━━━━━━━━━━━━━━━━━━━━━━━━━━━━━━━━━┳━━━━━━━━━━━━━━━━━━━━━━━━━━━━━┳━━━━━━━━━━━━━━━━━┓\n",
       "┃<span style=\"font-weight: bold\"> Layer (type)                         </span>┃<span style=\"font-weight: bold\"> Output Shape                </span>┃<span style=\"font-weight: bold\">         Param # </span>┃\n",
       "┡━━━━━━━━━━━━━━━━━━━━━━━━━━━━━━━━━━━━━━╇━━━━━━━━━━━━━━━━━━━━━━━━━━━━━╇━━━━━━━━━━━━━━━━━┩\n",
       "│ dense_2 (<span style=\"color: #0087ff; text-decoration-color: #0087ff\">Dense</span>)                      │ (<span style=\"color: #00d7ff; text-decoration-color: #00d7ff\">None</span>, <span style=\"color: #00af00; text-decoration-color: #00af00\">2</span>)                   │               <span style=\"color: #00af00; text-decoration-color: #00af00\">6</span> │\n",
       "├──────────────────────────────────────┼─────────────────────────────┼─────────────────┤\n",
       "│ dense_3 (<span style=\"color: #0087ff; text-decoration-color: #0087ff\">Dense</span>)                      │ (<span style=\"color: #00d7ff; text-decoration-color: #00d7ff\">None</span>, <span style=\"color: #00af00; text-decoration-color: #00af00\">1</span>)                   │               <span style=\"color: #00af00; text-decoration-color: #00af00\">3</span> │\n",
       "└──────────────────────────────────────┴─────────────────────────────┴─────────────────┘\n",
       "</pre>\n"
      ],
      "text/plain": [
       "┏━━━━━━━━━━━━━━━━━━━━━━━━━━━━━━━━━━━━━━┳━━━━━━━━━━━━━━━━━━━━━━━━━━━━━┳━━━━━━━━━━━━━━━━━┓\n",
       "┃\u001b[1m \u001b[0m\u001b[1mLayer (type)                        \u001b[0m\u001b[1m \u001b[0m┃\u001b[1m \u001b[0m\u001b[1mOutput Shape               \u001b[0m\u001b[1m \u001b[0m┃\u001b[1m \u001b[0m\u001b[1m        Param #\u001b[0m\u001b[1m \u001b[0m┃\n",
       "┡━━━━━━━━━━━━━━━━━━━━━━━━━━━━━━━━━━━━━━╇━━━━━━━━━━━━━━━━━━━━━━━━━━━━━╇━━━━━━━━━━━━━━━━━┩\n",
       "│ dense_2 (\u001b[38;5;33mDense\u001b[0m)                      │ (\u001b[38;5;45mNone\u001b[0m, \u001b[38;5;34m2\u001b[0m)                   │               \u001b[38;5;34m6\u001b[0m │\n",
       "├──────────────────────────────────────┼─────────────────────────────┼─────────────────┤\n",
       "│ dense_3 (\u001b[38;5;33mDense\u001b[0m)                      │ (\u001b[38;5;45mNone\u001b[0m, \u001b[38;5;34m1\u001b[0m)                   │               \u001b[38;5;34m3\u001b[0m │\n",
       "└──────────────────────────────────────┴─────────────────────────────┴─────────────────┘\n"
      ]
     },
     "metadata": {},
     "output_type": "display_data"
    },
    {
     "data": {
      "text/html": [
       "<pre style=\"white-space:pre;overflow-x:auto;line-height:normal;font-family:Menlo,'DejaVu Sans Mono',consolas,'Courier New',monospace\"><span style=\"font-weight: bold\"> Total params: </span><span style=\"color: #00af00; text-decoration-color: #00af00\">9</span> (36.00 B)\n",
       "</pre>\n"
      ],
      "text/plain": [
       "\u001b[1m Total params: \u001b[0m\u001b[38;5;34m9\u001b[0m (36.00 B)\n"
      ]
     },
     "metadata": {},
     "output_type": "display_data"
    },
    {
     "data": {
      "text/html": [
       "<pre style=\"white-space:pre;overflow-x:auto;line-height:normal;font-family:Menlo,'DejaVu Sans Mono',consolas,'Courier New',monospace\"><span style=\"font-weight: bold\"> Trainable params: </span><span style=\"color: #00af00; text-decoration-color: #00af00\">9</span> (36.00 B)\n",
       "</pre>\n"
      ],
      "text/plain": [
       "\u001b[1m Trainable params: \u001b[0m\u001b[38;5;34m9\u001b[0m (36.00 B)\n"
      ]
     },
     "metadata": {},
     "output_type": "display_data"
    },
    {
     "data": {
      "text/html": [
       "<pre style=\"white-space:pre;overflow-x:auto;line-height:normal;font-family:Menlo,'DejaVu Sans Mono',consolas,'Courier New',monospace\"><span style=\"font-weight: bold\"> Non-trainable params: </span><span style=\"color: #00af00; text-decoration-color: #00af00\">0</span> (0.00 B)\n",
       "</pre>\n"
      ],
      "text/plain": [
       "\u001b[1m Non-trainable params: \u001b[0m\u001b[38;5;34m0\u001b[0m (0.00 B)\n"
      ]
     },
     "metadata": {},
     "output_type": "display_data"
    }
   ],
   "source": [
    "model.summary()"
   ]
  },
  {
   "cell_type": "code",
   "execution_count": 35,
   "id": "d2bcb44c-9479-464b-8ac8-aec08d2b03c5",
   "metadata": {},
   "outputs": [
    {
     "data": {
      "text/plain": [
       "[array([[-0.72472924, -0.9425905 ],\n",
       "        [-0.3621887 , -1.2177973 ]], dtype=float32),\n",
       " array([0., 0.], dtype=float32),\n",
       " array([[ 0.05546153],\n",
       "        [-0.3048681 ]], dtype=float32),\n",
       " array([0.], dtype=float32)]"
      ]
     },
     "execution_count": 35,
     "metadata": {},
     "output_type": "execute_result"
    }
   ],
   "source": [
    "model.get_weights()"
   ]
  },
  {
   "cell_type": "code",
   "execution_count": 36,
   "id": "7eee52f7-8898-48b3-afaf-7ff5ec1550ac",
   "metadata": {},
   "outputs": [],
   "source": [
    "new_weights = [np.array([[0.1,0.1],[0.1,0.1]],dtype=np.float32),\n",
    "              np.array([0.,0.],dtype=np.float32),\n",
    "              np.array([[0.1],[0.1]],dtype=np.float32),\n",
    "              np.array([0.],dtype=np.float32)]"
   ]
  },
  {
   "cell_type": "code",
   "execution_count": 37,
   "id": "b8a33c03-92b7-44aa-b378-f57372e6295e",
   "metadata": {},
   "outputs": [],
   "source": [
    "model.set_weights(new_weights)"
   ]
  },
  {
   "cell_type": "code",
   "execution_count": 38,
   "id": "293fcb7f-0cbd-4738-970c-4d8a277435a5",
   "metadata": {},
   "outputs": [
    {
     "data": {
      "text/plain": [
       "[array([[0.1, 0.1],\n",
       "        [0.1, 0.1]], dtype=float32),\n",
       " array([0., 0.], dtype=float32),\n",
       " array([[0.1],\n",
       "        [0.1]], dtype=float32),\n",
       " array([0.], dtype=float32)]"
      ]
     },
     "execution_count": 38,
     "metadata": {},
     "output_type": "execute_result"
    }
   ],
   "source": [
    "model.get_weights()"
   ]
  },
  {
   "cell_type": "code",
   "execution_count": 40,
   "id": "7ad64960-168e-41c7-891c-478f7150c1ea",
   "metadata": {},
   "outputs": [],
   "source": [
    "model.compile(loss='binary_crossentropy',optimizer=Adam(learning_rate=0.001))"
   ]
  },
  {
   "cell_type": "code",
   "execution_count": 43,
   "id": "b4b0d0d5-babb-4cef-92f5-3199130c2d59",
   "metadata": {},
   "outputs": [
    {
     "name": "stdout",
     "output_type": "stream",
     "text": [
      "Epoch 1/75\n",
      "\u001b[1m4/4\u001b[0m \u001b[32m━━━━━━━━━━━━━━━━━━━━\u001b[0m\u001b[37m\u001b[0m \u001b[1m1s\u001b[0m 3ms/step - loss: 0.7084\n",
      "Epoch 2/75\n",
      "\u001b[1m4/4\u001b[0m \u001b[32m━━━━━━━━━━━━━━━━━━━━\u001b[0m\u001b[37m\u001b[0m \u001b[1m0s\u001b[0m 4ms/step - loss: 0.7356 \n",
      "Epoch 3/75\n",
      "\u001b[1m4/4\u001b[0m \u001b[32m━━━━━━━━━━━━━━━━━━━━\u001b[0m\u001b[37m\u001b[0m \u001b[1m0s\u001b[0m 2ms/step - loss: 0.7073 \n",
      "Epoch 4/75\n",
      "\u001b[1m4/4\u001b[0m \u001b[32m━━━━━━━━━━━━━━━━━━━━\u001b[0m\u001b[37m\u001b[0m \u001b[1m0s\u001b[0m 3ms/step - loss: 0.6859 \n",
      "Epoch 5/75\n",
      "\u001b[1m4/4\u001b[0m \u001b[32m━━━━━━━━━━━━━━━━━━━━\u001b[0m\u001b[37m\u001b[0m \u001b[1m0s\u001b[0m 3ms/step - loss: 0.7178 \n",
      "Epoch 6/75\n",
      "\u001b[1m4/4\u001b[0m \u001b[32m━━━━━━━━━━━━━━━━━━━━\u001b[0m\u001b[37m\u001b[0m \u001b[1m0s\u001b[0m 3ms/step - loss: 0.7179 \n",
      "Epoch 7/75\n",
      "\u001b[1m4/4\u001b[0m \u001b[32m━━━━━━━━━━━━━━━━━━━━\u001b[0m\u001b[37m\u001b[0m \u001b[1m0s\u001b[0m 3ms/step - loss: 0.6599 \n",
      "Epoch 8/75\n",
      "\u001b[1m4/4\u001b[0m \u001b[32m━━━━━━━━━━━━━━━━━━━━\u001b[0m\u001b[37m\u001b[0m \u001b[1m0s\u001b[0m 3ms/step - loss: 0.7174 \n",
      "Epoch 9/75\n",
      "\u001b[1m4/4\u001b[0m \u001b[32m━━━━━━━━━━━━━━━━━━━━\u001b[0m\u001b[37m\u001b[0m \u001b[1m0s\u001b[0m 3ms/step - loss: 0.6600 \n",
      "Epoch 10/75\n",
      "\u001b[1m4/4\u001b[0m \u001b[32m━━━━━━━━━━━━━━━━━━━━\u001b[0m\u001b[37m\u001b[0m \u001b[1m0s\u001b[0m 3ms/step - loss: 0.6600  \n",
      "Epoch 11/75\n",
      "\u001b[1m4/4\u001b[0m \u001b[32m━━━━━━━━━━━━━━━━━━━━\u001b[0m\u001b[37m\u001b[0m \u001b[1m0s\u001b[0m 3ms/step - loss: 0.7328 \n",
      "Epoch 12/75\n",
      "\u001b[1m4/4\u001b[0m \u001b[32m━━━━━━━━━━━━━━━━━━━━\u001b[0m\u001b[37m\u001b[0m \u001b[1m0s\u001b[0m 2ms/step - loss: 0.6759 \n",
      "Epoch 13/75\n",
      "\u001b[1m4/4\u001b[0m \u001b[32m━━━━━━━━━━━━━━━━━━━━\u001b[0m\u001b[37m\u001b[0m \u001b[1m0s\u001b[0m 3ms/step - loss: 0.7168 \n",
      "Epoch 14/75\n",
      "\u001b[1m4/4\u001b[0m \u001b[32m━━━━━━━━━━━━━━━━━━━━\u001b[0m\u001b[37m\u001b[0m \u001b[1m0s\u001b[0m 4ms/step - loss: 0.7314 \n",
      "Epoch 15/75\n",
      "\u001b[1m4/4\u001b[0m \u001b[32m━━━━━━━━━━━━━━━━━━━━\u001b[0m\u001b[37m\u001b[0m \u001b[1m0s\u001b[0m 4ms/step - loss: 0.7311 \n",
      "Epoch 16/75\n",
      "\u001b[1m4/4\u001b[0m \u001b[32m━━━━━━━━━━━━━━━━━━━━\u001b[0m\u001b[37m\u001b[0m \u001b[1m0s\u001b[0m 3ms/step - loss: 0.6764 \n",
      "Epoch 17/75\n",
      "\u001b[1m4/4\u001b[0m \u001b[32m━━━━━━━━━━━━━━━━━━━━\u001b[0m\u001b[37m\u001b[0m \u001b[1m0s\u001b[0m 4ms/step - loss: 0.6615 \n",
      "Epoch 18/75\n",
      "\u001b[1m4/4\u001b[0m \u001b[32m━━━━━━━━━━━━━━━━━━━━\u001b[0m\u001b[37m\u001b[0m \u001b[1m0s\u001b[0m 4ms/step - loss: 0.6761  \n",
      "Epoch 19/75\n",
      "\u001b[1m4/4\u001b[0m \u001b[32m━━━━━━━━━━━━━━━━━━━━\u001b[0m\u001b[37m\u001b[0m \u001b[1m0s\u001b[0m 3ms/step - loss: 0.6614 \n",
      "Epoch 20/75\n",
      "\u001b[1m4/4\u001b[0m \u001b[32m━━━━━━━━━━━━━━━━━━━━\u001b[0m\u001b[37m\u001b[0m \u001b[1m0s\u001b[0m 5ms/step - loss: 0.6860 \n",
      "Epoch 21/75\n",
      "\u001b[1m4/4\u001b[0m \u001b[32m━━━━━━━━━━━━━━━━━━━━\u001b[0m\u001b[37m\u001b[0m \u001b[1m0s\u001b[0m 3ms/step - loss: 0.6618  \n",
      "Epoch 22/75\n",
      "\u001b[1m4/4\u001b[0m \u001b[32m━━━━━━━━━━━━━━━━━━━━\u001b[0m\u001b[37m\u001b[0m \u001b[1m0s\u001b[0m 3ms/step - loss: 0.7058 \n",
      "Epoch 23/75\n",
      "\u001b[1m4/4\u001b[0m \u001b[32m━━━━━━━━━━━━━━━━━━━━\u001b[0m\u001b[37m\u001b[0m \u001b[1m0s\u001b[0m 4ms/step - loss: 0.7149 \n",
      "Epoch 24/75\n",
      "\u001b[1m4/4\u001b[0m \u001b[32m━━━━━━━━━━━━━━━━━━━━\u001b[0m\u001b[37m\u001b[0m \u001b[1m0s\u001b[0m 4ms/step - loss: 0.6863  \n",
      "Epoch 25/75\n",
      "\u001b[1m4/4\u001b[0m \u001b[32m━━━━━━━━━━━━━━━━━━━━\u001b[0m\u001b[37m\u001b[0m \u001b[1m0s\u001b[0m 6ms/step - loss: 0.7049 \n",
      "Epoch 26/75\n",
      "\u001b[1m4/4\u001b[0m \u001b[32m━━━━━━━━━━━━━━━━━━━━\u001b[0m\u001b[37m\u001b[0m \u001b[1m0s\u001b[0m 4ms/step - loss: 0.6628  \n",
      "Epoch 27/75\n",
      "\u001b[1m4/4\u001b[0m \u001b[32m━━━━━━━━━━━━━━━━━━━━\u001b[0m\u001b[37m\u001b[0m \u001b[1m0s\u001b[0m 6ms/step - loss: 0.6628 \n",
      "Epoch 28/75\n",
      "\u001b[1m4/4\u001b[0m \u001b[32m━━━━━━━━━━━━━━━━━━━━\u001b[0m\u001b[37m\u001b[0m \u001b[1m0s\u001b[0m 6ms/step - loss: 0.7050 \n",
      "Epoch 29/75\n",
      "\u001b[1m4/4\u001b[0m \u001b[32m━━━━━━━━━━━━━━━━━━━━\u001b[0m\u001b[37m\u001b[0m \u001b[1m0s\u001b[0m 5ms/step - loss: 0.7278 \n",
      "Epoch 30/75\n",
      "\u001b[1m4/4\u001b[0m \u001b[32m━━━━━━━━━━━━━━━━━━━━\u001b[0m\u001b[37m\u001b[0m \u001b[1m0s\u001b[0m 4ms/step - loss: 0.7136 \n",
      "Epoch 31/75\n",
      "\u001b[1m4/4\u001b[0m \u001b[32m━━━━━━━━━━━━━━━━━━━━\u001b[0m\u001b[37m\u001b[0m \u001b[1m0s\u001b[0m 5ms/step - loss: 0.6771 \n",
      "Epoch 32/75\n",
      "\u001b[1m4/4\u001b[0m \u001b[32m━━━━━━━━━━━━━━━━━━━━\u001b[0m\u001b[37m\u001b[0m \u001b[1m0s\u001b[0m 4ms/step - loss: 0.7133 \n",
      "Epoch 33/75\n",
      "\u001b[1m4/4\u001b[0m \u001b[32m━━━━━━━━━━━━━━━━━━━━\u001b[0m\u001b[37m\u001b[0m \u001b[1m0s\u001b[0m 3ms/step - loss: 0.7043  \n",
      "Epoch 34/75\n",
      "\u001b[1m4/4\u001b[0m \u001b[32m━━━━━━━━━━━━━━━━━━━━\u001b[0m\u001b[37m\u001b[0m \u001b[1m0s\u001b[0m 4ms/step - loss: 0.6642 \n",
      "Epoch 35/75\n",
      "\u001b[1m4/4\u001b[0m \u001b[32m━━━━━━━━━━━━━━━━━━━━\u001b[0m\u001b[37m\u001b[0m \u001b[1m0s\u001b[0m 3ms/step - loss: 0.7130 \n",
      "Epoch 36/75\n",
      "\u001b[1m4/4\u001b[0m \u001b[32m━━━━━━━━━━━━━━━━━━━━\u001b[0m\u001b[37m\u001b[0m \u001b[1m0s\u001b[0m 3ms/step - loss: 0.6644 \n",
      "Epoch 37/75\n",
      "\u001b[1m4/4\u001b[0m \u001b[32m━━━━━━━━━━━━━━━━━━━━\u001b[0m\u001b[37m\u001b[0m \u001b[1m0s\u001b[0m 6ms/step - loss: 0.7038  \n",
      "Epoch 38/75\n",
      "\u001b[1m4/4\u001b[0m \u001b[32m━━━━━━━━━━━━━━━━━━━━\u001b[0m\u001b[37m\u001b[0m \u001b[1m0s\u001b[0m 5ms/step - loss: 0.7036  \n",
      "Epoch 39/75\n",
      "\u001b[1m4/4\u001b[0m \u001b[32m━━━━━━━━━━━━━━━━━━━━\u001b[0m\u001b[37m\u001b[0m \u001b[1m0s\u001b[0m 5ms/step - loss: 0.7253 \n",
      "Epoch 40/75\n",
      "\u001b[1m4/4\u001b[0m \u001b[32m━━━━━━━━━━━━━━━━━━━━\u001b[0m\u001b[37m\u001b[0m \u001b[1m0s\u001b[0m 3ms/step - loss: 0.7035 \n",
      "Epoch 41/75\n",
      "\u001b[1m4/4\u001b[0m \u001b[32m━━━━━━━━━━━━━━━━━━━━\u001b[0m\u001b[37m\u001b[0m \u001b[1m0s\u001b[0m 5ms/step - loss: 0.6778 \n",
      "Epoch 42/75\n",
      "\u001b[1m4/4\u001b[0m \u001b[32m━━━━━━━━━━━━━━━━━━━━\u001b[0m\u001b[37m\u001b[0m \u001b[1m0s\u001b[0m 3ms/step - loss: 0.6865 \n",
      "Epoch 43/75\n",
      "\u001b[1m4/4\u001b[0m \u001b[32m━━━━━━━━━━━━━━━━━━━━\u001b[0m\u001b[37m\u001b[0m \u001b[1m0s\u001b[0m 3ms/step - loss: 0.7031  \n",
      "Epoch 44/75\n",
      "\u001b[1m4/4\u001b[0m \u001b[32m━━━━━━━━━━━━━━━━━━━━\u001b[0m\u001b[37m\u001b[0m \u001b[1m0s\u001b[0m 3ms/step - loss: 0.6656 \n",
      "Epoch 45/75\n",
      "\u001b[1m4/4\u001b[0m \u001b[32m━━━━━━━━━━━━━━━━━━━━\u001b[0m\u001b[37m\u001b[0m \u001b[1m0s\u001b[0m 6ms/step - loss: 0.7032 \n",
      "Epoch 46/75\n",
      "\u001b[1m4/4\u001b[0m \u001b[32m━━━━━━━━━━━━━━━━━━━━\u001b[0m\u001b[37m\u001b[0m \u001b[1m0s\u001b[0m 4ms/step - loss: 0.6782 \n",
      "Epoch 47/75\n",
      "\u001b[1m4/4\u001b[0m \u001b[32m━━━━━━━━━━━━━━━━━━━━\u001b[0m\u001b[37m\u001b[0m \u001b[1m0s\u001b[0m 5ms/step - loss: 0.7236 \n",
      "Epoch 48/75\n",
      "\u001b[1m4/4\u001b[0m \u001b[32m━━━━━━━━━━━━━━━━━━━━\u001b[0m\u001b[37m\u001b[0m \u001b[1m0s\u001b[0m 5ms/step - loss: 0.7108  \n",
      "Epoch 49/75\n",
      "\u001b[1m4/4\u001b[0m \u001b[32m━━━━━━━━━━━━━━━━━━━━\u001b[0m\u001b[37m\u001b[0m \u001b[1m0s\u001b[0m 4ms/step - loss: 0.7105 \n",
      "Epoch 50/75\n",
      "\u001b[1m4/4\u001b[0m \u001b[32m━━━━━━━━━━━━━━━━━━━━\u001b[0m\u001b[37m\u001b[0m \u001b[1m0s\u001b[0m 3ms/step - loss: 0.6864  \n",
      "Epoch 51/75\n",
      "\u001b[1m4/4\u001b[0m \u001b[32m━━━━━━━━━━━━━━━━━━━━\u001b[0m\u001b[37m\u001b[0m \u001b[1m0s\u001b[0m 4ms/step - loss: 0.7102 \n",
      "Epoch 52/75\n",
      "\u001b[1m4/4\u001b[0m \u001b[32m━━━━━━━━━━━━━━━━━━━━\u001b[0m\u001b[37m\u001b[0m \u001b[1m0s\u001b[0m 3ms/step - loss: 0.6866 \n",
      "Epoch 53/75\n",
      "\u001b[1m4/4\u001b[0m \u001b[32m━━━━━━━━━━━━━━━━━━━━\u001b[0m\u001b[37m\u001b[0m \u001b[1m0s\u001b[0m 3ms/step - loss: 0.7021 \n",
      "Epoch 54/75\n",
      "\u001b[1m4/4\u001b[0m \u001b[32m━━━━━━━━━━━━━━━━━━━━\u001b[0m\u001b[37m\u001b[0m \u001b[1m0s\u001b[0m 3ms/step - loss: 0.6671 \n",
      "Epoch 55/75\n",
      "\u001b[1m4/4\u001b[0m \u001b[32m━━━━━━━━━━━━━━━━━━━━\u001b[0m\u001b[37m\u001b[0m \u001b[1m0s\u001b[0m 6ms/step - loss: 0.6866 \n",
      "Epoch 56/75\n",
      "\u001b[1m4/4\u001b[0m \u001b[32m━━━━━━━━━━━━━━━━━━━━\u001b[0m\u001b[37m\u001b[0m \u001b[1m0s\u001b[0m 3ms/step - loss: 0.6672  \n",
      "Epoch 57/75\n",
      "\u001b[1m4/4\u001b[0m \u001b[32m━━━━━━━━━━━━━━━━━━━━\u001b[0m\u001b[37m\u001b[0m \u001b[1m0s\u001b[0m 3ms/step - loss: 0.7214 \n",
      "Epoch 58/75\n",
      "\u001b[1m4/4\u001b[0m \u001b[32m━━━━━━━━━━━━━━━━━━━━\u001b[0m\u001b[37m\u001b[0m \u001b[1m0s\u001b[0m 3ms/step - loss: 0.6790 \n",
      "Epoch 59/75\n",
      "\u001b[1m4/4\u001b[0m \u001b[32m━━━━━━━━━━━━━━━━━━━━\u001b[0m\u001b[37m\u001b[0m \u001b[1m0s\u001b[0m 3ms/step - loss: 0.6866 \n",
      "Epoch 60/75\n",
      "\u001b[1m4/4\u001b[0m \u001b[32m━━━━━━━━━━━━━━━━━━━━\u001b[0m\u001b[37m\u001b[0m \u001b[1m0s\u001b[0m 3ms/step - loss: 0.7016  \n",
      "Epoch 61/75\n",
      "\u001b[1m4/4\u001b[0m \u001b[32m━━━━━━━━━━━━━━━━━━━━\u001b[0m\u001b[37m\u001b[0m \u001b[1m0s\u001b[0m 3ms/step - loss: 0.6791 \n",
      "Epoch 62/75\n",
      "\u001b[1m4/4\u001b[0m \u001b[32m━━━━━━━━━━━━━━━━━━━━\u001b[0m\u001b[37m\u001b[0m \u001b[1m0s\u001b[0m 3ms/step - loss: 0.7091 \n",
      "Epoch 63/75\n",
      "\u001b[1m4/4\u001b[0m \u001b[32m━━━━━━━━━━━━━━━━━━━━\u001b[0m\u001b[37m\u001b[0m \u001b[1m0s\u001b[0m 3ms/step - loss: 0.6790 \n",
      "Epoch 64/75\n",
      "\u001b[1m4/4\u001b[0m \u001b[32m━━━━━━━━━━━━━━━━━━━━\u001b[0m\u001b[37m\u001b[0m \u001b[1m0s\u001b[0m 3ms/step - loss: 0.6680 \n",
      "Epoch 65/75\n",
      "\u001b[1m4/4\u001b[0m \u001b[32m━━━━━━━━━━━━━━━━━━━━\u001b[0m\u001b[37m\u001b[0m \u001b[1m0s\u001b[0m 3ms/step - loss: 0.7088 \n",
      "Epoch 66/75\n",
      "\u001b[1m4/4\u001b[0m \u001b[32m━━━━━━━━━━━━━━━━━━━━\u001b[0m\u001b[37m\u001b[0m \u001b[1m0s\u001b[0m 3ms/step - loss: 0.6867 \n",
      "Epoch 67/75\n",
      "\u001b[1m4/4\u001b[0m \u001b[32m━━━━━━━━━━━━━━━━━━━━\u001b[0m\u001b[37m\u001b[0m \u001b[1m0s\u001b[0m 3ms/step - loss: 0.6795 \n",
      "Epoch 68/75\n",
      "\u001b[1m4/4\u001b[0m \u001b[32m━━━━━━━━━━━━━━━━━━━━\u001b[0m\u001b[37m\u001b[0m \u001b[1m0s\u001b[0m 3ms/step - loss: 0.7010 \n",
      "Epoch 69/75\n",
      "\u001b[1m4/4\u001b[0m \u001b[32m━━━━━━━━━━━━━━━━━━━━\u001b[0m\u001b[37m\u001b[0m \u001b[1m0s\u001b[0m 3ms/step - loss: 0.6686 \n",
      "Epoch 70/75\n",
      "\u001b[1m4/4\u001b[0m \u001b[32m━━━━━━━━━━━━━━━━━━━━\u001b[0m\u001b[37m\u001b[0m \u001b[1m0s\u001b[0m 4ms/step - loss: 0.6791 \n",
      "Epoch 71/75\n",
      "\u001b[1m4/4\u001b[0m \u001b[32m━━━━━━━━━━━━━━━━━━━━\u001b[0m\u001b[37m\u001b[0m \u001b[1m0s\u001b[0m 3ms/step - loss: 0.7187 \n",
      "Epoch 72/75\n",
      "\u001b[1m4/4\u001b[0m \u001b[32m━━━━━━━━━━━━━━━━━━━━\u001b[0m\u001b[37m\u001b[0m \u001b[1m0s\u001b[0m 3ms/step - loss: 0.6795  \n",
      "Epoch 73/75\n",
      "\u001b[1m4/4\u001b[0m \u001b[32m━━━━━━━━━━━━━━━━━━━━\u001b[0m\u001b[37m\u001b[0m \u001b[1m0s\u001b[0m 4ms/step - loss: 0.7180 \n",
      "Epoch 74/75\n",
      "\u001b[1m4/4\u001b[0m \u001b[32m━━━━━━━━━━━━━━━━━━━━\u001b[0m\u001b[37m\u001b[0m \u001b[1m0s\u001b[0m 3ms/step - loss: 0.6864 \n",
      "Epoch 75/75\n",
      "\u001b[1m4/4\u001b[0m \u001b[32m━━━━━━━━━━━━━━━━━━━━\u001b[0m\u001b[37m\u001b[0m \u001b[1m0s\u001b[0m 4ms/step - loss: 0.7071 \n"
     ]
    },
    {
     "data": {
      "text/plain": [
       "<keras.src.callbacks.history.History at 0x2c2bc4eec00>"
      ]
     },
     "execution_count": 43,
     "metadata": {},
     "output_type": "execute_result"
    }
   ],
   "source": [
    "model.fit(df.iloc[:,0:-1].values,df['placed'].values,epochs=75,verbose=1,batch_size=1)"
   ]
  },
  {
   "cell_type": "code",
   "execution_count": 44,
   "id": "bcdc38b9-a723-40e7-9c41-c7c22511b5ea",
   "metadata": {},
   "outputs": [
    {
     "data": {
      "text/plain": [
       "[array([[0.12162478, 0.12162478],\n",
       "        [0.03866272, 0.03866272]], dtype=float32),\n",
       " array([-0.02463497, -0.02463497], dtype=float32),\n",
       " array([[0.08072586],\n",
       "        [0.08072586]], dtype=float32),\n",
       " array([-0.02088566], dtype=float32)]"
      ]
     },
     "execution_count": 44,
     "metadata": {},
     "output_type": "execute_result"
    }
   ],
   "source": [
    "model.get_weights()"
   ]
  },
  {
   "cell_type": "code",
   "execution_count": null,
   "id": "f3e1bf2e-f187-4e89-abb0-944e44531e60",
   "metadata": {},
   "outputs": [],
   "source": []
  }
 ],
 "metadata": {
  "kernelspec": {
   "display_name": "Python 3 (ipykernel)",
   "language": "python",
   "name": "python3"
  },
  "language_info": {
   "codemirror_mode": {
    "name": "ipython",
    "version": 3
   },
   "file_extension": ".py",
   "mimetype": "text/x-python",
   "name": "python",
   "nbconvert_exporter": "python",
   "pygments_lexer": "ipython3",
   "version": "3.12.1"
  }
 },
 "nbformat": 4,
 "nbformat_minor": 5
}
